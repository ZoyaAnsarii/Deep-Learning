{
 "cells": [
  {
   "cell_type": "code",
   "execution_count": 1,
   "id": "b16363bc",
   "metadata": {
    "_cell_guid": "b1076dfc-b9ad-4769-8c92-a6c4dae69d19",
    "_uuid": "8f2839f25d086af736a60e9eeb907d3b93b6e0e5",
    "execution": {
     "iopub.execute_input": "2023-02-11T14:55:53.560920Z",
     "iopub.status.busy": "2023-02-11T14:55:53.560344Z",
     "iopub.status.idle": "2023-02-11T14:55:53.574247Z",
     "shell.execute_reply": "2023-02-11T14:55:53.573047Z"
    },
    "papermill": {
     "duration": 0.027402,
     "end_time": "2023-02-11T14:55:53.577261",
     "exception": false,
     "start_time": "2023-02-11T14:55:53.549859",
     "status": "completed"
    },
    "tags": []
   },
   "outputs": [],
   "source": [
    "# This Python 3 environment comes with many helpful analytics libraries installed\n",
    "# It is defined by the kaggle/python Docker image: https://github.com/kaggle/docker-python\n",
    "# For example, here's several helpful packages to load\n",
    "\n",
    "import numpy as np # linear algebra\n",
    "import pandas as pd # data processing, CSV file I/O (e.g. pd.read_csv)\n",
    "\n",
    "# Input data files are available in the read-only \"../input/\" directory\n",
    "# For example, running this (by clicking run or pressing Shift+Enter) will list all files under the input directory\n",
    "\n",
    "import os\n",
    "for dirname, _, filenames in os.walk('/kaggle/input'):\n",
    "    for filename in filenames:\n",
    "        print(os.path.join(dirname, filename))\n",
    "\n",
    "# You can write up to 20GB to the current directory (/kaggle/working/) that gets preserved as output when you create a version using \"Save & Run All\" \n",
    "# You can also write temporary files to /kaggle/temp/, but they won't be saved outside of the current session"
   ]
  },
  {
   "cell_type": "code",
   "execution_count": 2,
   "id": "9e69a209",
   "metadata": {
    "execution": {
     "iopub.execute_input": "2023-02-11T14:55:53.593777Z",
     "iopub.status.busy": "2023-02-11T14:55:53.593250Z",
     "iopub.status.idle": "2023-02-11T14:56:01.527695Z",
     "shell.execute_reply": "2023-02-11T14:56:01.525904Z"
    },
    "papermill": {
     "duration": 7.945831,
     "end_time": "2023-02-11T14:56:01.530626",
     "exception": false,
     "start_time": "2023-02-11T14:55:53.584795",
     "status": "completed"
    },
    "tags": []
   },
   "outputs": [
    {
     "name": "stdout",
     "output_type": "stream",
     "text": [
      "Downloading data from https://storage.googleapis.com/tensorflow/tf-keras-datasets/reuters.npz\n",
      "2113536/2110848 [==============================] - 0s 0us/step\n",
      "2121728/2110848 [==============================] - 0s 0us/step\n"
     ]
    }
   ],
   "source": [
    "from keras.datasets import reuters\n",
    "(train_data, train_labels), (test_data, test_labels) = reuters.load_data(num_words=10000)"
   ]
  },
  {
   "cell_type": "code",
   "execution_count": 3,
   "id": "c457642d",
   "metadata": {
    "execution": {
     "iopub.execute_input": "2023-02-11T14:56:01.547928Z",
     "iopub.status.busy": "2023-02-11T14:56:01.547201Z",
     "iopub.status.idle": "2023-02-11T14:56:01.553633Z",
     "shell.execute_reply": "2023-02-11T14:56:01.552320Z"
    },
    "papermill": {
     "duration": 0.018397,
     "end_time": "2023-02-11T14:56:01.556733",
     "exception": false,
     "start_time": "2023-02-11T14:56:01.538336",
     "status": "completed"
    },
    "tags": []
   },
   "outputs": [
    {
     "name": "stdout",
     "output_type": "stream",
     "text": [
      "8982 2246\n"
     ]
    }
   ],
   "source": [
    "print(len(train_data), len(test_data)) \n"
   ]
  },
  {
   "cell_type": "code",
   "execution_count": 4,
   "id": "104e326e",
   "metadata": {
    "execution": {
     "iopub.execute_input": "2023-02-11T14:56:01.574397Z",
     "iopub.status.busy": "2023-02-11T14:56:01.573777Z",
     "iopub.status.idle": "2023-02-11T14:56:01.578491Z",
     "shell.execute_reply": "2023-02-11T14:56:01.577496Z"
    },
    "papermill": {
     "duration": 0.015899,
     "end_time": "2023-02-11T14:56:01.580719",
     "exception": false,
     "start_time": "2023-02-11T14:56:01.564820",
     "status": "completed"
    },
    "tags": []
   },
   "outputs": [
    {
     "name": "stdout",
     "output_type": "stream",
     "text": [
      "[1, 245, 273, 207, 156, 53, 74, 160, 26, 14, 46, 296, 26, 39, 74, 2979, 3554, 14, 46, 4689, 4329, 86, 61, 3499, 4795, 14, 61, 451, 4329, 17, 12]\n"
     ]
    }
   ],
   "source": [
    "print(train_data[10])"
   ]
  },
  {
   "cell_type": "markdown",
   "id": "c3c14e8b",
   "metadata": {
    "papermill": {
     "duration": 0.007285,
     "end_time": "2023-02-11T14:56:01.595819",
     "exception": false,
     "start_time": "2023-02-11T14:56:01.588534",
     "status": "completed"
    },
    "tags": []
   },
   "source": [
    "> **Note that the indices are offset by 3 because 0, 1, and 2 are reserved\n",
    "> indices for “padding,” “start of sequence,” and “unknown.”**"
   ]
  },
  {
   "cell_type": "code",
   "execution_count": 5,
   "id": "ee50ef98",
   "metadata": {
    "execution": {
     "iopub.execute_input": "2023-02-11T14:56:01.613015Z",
     "iopub.status.busy": "2023-02-11T14:56:01.612348Z",
     "iopub.status.idle": "2023-02-11T14:56:01.826969Z",
     "shell.execute_reply": "2023-02-11T14:56:01.825907Z"
    },
    "papermill": {
     "duration": 0.226284,
     "end_time": "2023-02-11T14:56:01.829661",
     "exception": false,
     "start_time": "2023-02-11T14:56:01.603377",
     "status": "completed"
    },
    "tags": []
   },
   "outputs": [
    {
     "name": "stdout",
     "output_type": "stream",
     "text": [
      "Downloading data from https://storage.googleapis.com/tensorflow/tf-keras-datasets/reuters_word_index.json\n",
      "557056/550378 [==============================] - 0s 0us/step\n",
      "565248/550378 [==============================] - 0s 0us/step\n"
     ]
    }
   ],
   "source": [
    "word_index = reuters.get_word_index()\n",
    "reverse_word_index = dict([(value, key) for (key, value) in word_index.items()])\n",
    "decoded_newswire = ' '.join([reverse_word_index.get(i - 3, '?') for i in\n",
    "train_data[0]])"
   ]
  },
  {
   "cell_type": "markdown",
   "id": "f5c2b290",
   "metadata": {
    "papermill": {
     "duration": 0.007408,
     "end_time": "2023-02-11T14:56:01.844872",
     "exception": false,
     "start_time": "2023-02-11T14:56:01.837464",
     "status": "completed"
    },
    "tags": []
   },
   "source": [
    "> **The label associated with an example is an integer between 0 and 45—a topic index:**"
   ]
  },
  {
   "cell_type": "code",
   "execution_count": 6,
   "id": "6fe8ae21",
   "metadata": {
    "execution": {
     "iopub.execute_input": "2023-02-11T14:56:01.863194Z",
     "iopub.status.busy": "2023-02-11T14:56:01.862809Z",
     "iopub.status.idle": "2023-02-11T14:56:01.871747Z",
     "shell.execute_reply": "2023-02-11T14:56:01.870597Z"
    },
    "papermill": {
     "duration": 0.020671,
     "end_time": "2023-02-11T14:56:01.874535",
     "exception": false,
     "start_time": "2023-02-11T14:56:01.853864",
     "status": "completed"
    },
    "tags": []
   },
   "outputs": [
    {
     "data": {
      "text/plain": [
       "3"
      ]
     },
     "execution_count": 6,
     "metadata": {},
     "output_type": "execute_result"
    }
   ],
   "source": [
    "train_labels[10]"
   ]
  },
  {
   "cell_type": "code",
   "execution_count": 7,
   "id": "487df1f2",
   "metadata": {
    "execution": {
     "iopub.execute_input": "2023-02-11T14:56:01.892049Z",
     "iopub.status.busy": "2023-02-11T14:56:01.891640Z",
     "iopub.status.idle": "2023-02-11T14:56:01.921166Z",
     "shell.execute_reply": "2023-02-11T14:56:01.919931Z"
    },
    "papermill": {
     "duration": 0.041638,
     "end_time": "2023-02-11T14:56:01.924140",
     "exception": false,
     "start_time": "2023-02-11T14:56:01.882502",
     "status": "completed"
    },
    "tags": []
   },
   "outputs": [],
   "source": [
    "def vectorize_sequences(sequences, dimension=10000):\n",
    "    results=np.zeros((len(sequences),dimension))\n",
    "    for i,sequence in enumerate(sequences):\n",
    "        results[i,sequence] = 1\n",
    "        return results\n",
    "train_data = vectorize_sequences(train_data)\n",
    "test_data =vectorize_sequences(test_data)"
   ]
  },
  {
   "cell_type": "code",
   "execution_count": 8,
   "id": "3b0b1f77",
   "metadata": {
    "execution": {
     "iopub.execute_input": "2023-02-11T14:56:01.941923Z",
     "iopub.status.busy": "2023-02-11T14:56:01.941512Z",
     "iopub.status.idle": "2023-02-11T14:56:01.952205Z",
     "shell.execute_reply": "2023-02-11T14:56:01.951135Z"
    },
    "papermill": {
     "duration": 0.022543,
     "end_time": "2023-02-11T14:56:01.954720",
     "exception": false,
     "start_time": "2023-02-11T14:56:01.932177",
     "status": "completed"
    },
    "tags": []
   },
   "outputs": [],
   "source": [
    "def to_one_hot(labels, dimension=46):\n",
    "    results = np.zeros((len(labels), dimension))\n",
    "    for i, label in enumerate(labels):\n",
    "        results[i, label] = 1\n",
    "    return results\n",
    "one_hot_train_labels = to_one_hot(train_labels)\n",
    "one_hot_test_labels = to_one_hot(test_labels)"
   ]
  },
  {
   "cell_type": "markdown",
   "id": "89c1fd02",
   "metadata": {
    "papermill": {
     "duration": 0.007473,
     "end_time": "2023-02-11T14:56:01.970095",
     "exception": false,
     "start_time": "2023-02-11T14:56:01.962622",
     "status": "completed"
    },
    "tags": []
   },
   "source": [
    "> **Note that there is a built-in way to do this in Keras, which you’ve already seen in action\n",
    ">  in the MNIST example:**"
   ]
  },
  {
   "cell_type": "code",
   "execution_count": 9,
   "id": "b8f865fd",
   "metadata": {
    "execution": {
     "iopub.execute_input": "2023-02-11T14:56:01.988208Z",
     "iopub.status.busy": "2023-02-11T14:56:01.987776Z",
     "iopub.status.idle": "2023-02-11T14:56:01.993993Z",
     "shell.execute_reply": "2023-02-11T14:56:01.992948Z"
    },
    "papermill": {
     "duration": 0.018217,
     "end_time": "2023-02-11T14:56:01.996347",
     "exception": false,
     "start_time": "2023-02-11T14:56:01.978130",
     "status": "completed"
    },
    "tags": []
   },
   "outputs": [],
   "source": [
    "from keras.utils.np_utils import to_categorical\n",
    "one_hot_train_labels = to_categorical(train_labels)\n",
    "one_hot_test_labels = to_categorical(test_labels)"
   ]
  },
  {
   "cell_type": "markdown",
   "id": "6a747467",
   "metadata": {
    "papermill": {
     "duration": 0.007607,
     "end_time": "2023-02-11T14:56:02.011886",
     "exception": false,
     "start_time": "2023-02-11T14:56:02.004279",
     "status": "completed"
    },
    "tags": []
   },
   "source": [
    "> **The number of output classes has gone from 2 to 46, if we compare this from IMDB dataset. The\n",
    "> dimensionality of the output space is much larger.For this reason you’ll use larger layers. Let’s go with 64 units.**"
   ]
  },
  {
   "cell_type": "code",
   "execution_count": 10,
   "id": "3d207ee8",
   "metadata": {
    "execution": {
     "iopub.execute_input": "2023-02-11T14:56:02.029524Z",
     "iopub.status.busy": "2023-02-11T14:56:02.028765Z",
     "iopub.status.idle": "2023-02-11T14:56:02.163991Z",
     "shell.execute_reply": "2023-02-11T14:56:02.162476Z"
    },
    "papermill": {
     "duration": 0.146954,
     "end_time": "2023-02-11T14:56:02.166632",
     "exception": false,
     "start_time": "2023-02-11T14:56:02.019678",
     "status": "completed"
    },
    "tags": []
   },
   "outputs": [
    {
     "name": "stderr",
     "output_type": "stream",
     "text": [
      "2023-02-11 14:56:02.068867: I tensorflow/core/common_runtime/process_util.cc:146] Creating new thread pool with default inter op setting: 2. Tune using inter_op_parallelism_threads for best performance.\n"
     ]
    }
   ],
   "source": [
    "from keras import models\n",
    "from keras import layers\n",
    "model = models.Sequential()\n",
    "model.add(layers.Dense(64, activation='relu', input_shape=(10000,)))\n",
    "model.add(layers.Dense(64, activation='relu'))\n",
    "model.add(layers.Dense(46, activation='softmax'))"
   ]
  },
  {
   "cell_type": "code",
   "execution_count": 11,
   "id": "4e6664ea",
   "metadata": {
    "execution": {
     "iopub.execute_input": "2023-02-11T14:56:02.185536Z",
     "iopub.status.busy": "2023-02-11T14:56:02.184623Z",
     "iopub.status.idle": "2023-02-11T14:56:02.199313Z",
     "shell.execute_reply": "2023-02-11T14:56:02.198011Z"
    },
    "papermill": {
     "duration": 0.02742,
     "end_time": "2023-02-11T14:56:02.202203",
     "exception": false,
     "start_time": "2023-02-11T14:56:02.174783",
     "status": "completed"
    },
    "tags": []
   },
   "outputs": [],
   "source": [
    "model.compile(optimizer='rmsprop',\n",
    "loss='categorical_crossentropy',\n",
    "metrics=['accuracy'])"
   ]
  },
  {
   "cell_type": "code",
   "execution_count": 12,
   "id": "ff556704",
   "metadata": {
    "execution": {
     "iopub.execute_input": "2023-02-11T14:56:02.220297Z",
     "iopub.status.busy": "2023-02-11T14:56:02.219296Z",
     "iopub.status.idle": "2023-02-11T14:56:02.225779Z",
     "shell.execute_reply": "2023-02-11T14:56:02.224783Z"
    },
    "papermill": {
     "duration": 0.017796,
     "end_time": "2023-02-11T14:56:02.227964",
     "exception": false,
     "start_time": "2023-02-11T14:56:02.210168",
     "status": "completed"
    },
    "tags": []
   },
   "outputs": [],
   "source": [
    "x_val = train_data[:1000]\n",
    "partial_x_train = train_data[1000:]\n",
    "y_val = one_hot_train_labels[:1000]\n",
    "partial_y_train = one_hot_train_labels[1000:]"
   ]
  },
  {
   "cell_type": "code",
   "execution_count": 13,
   "id": "b67159f2",
   "metadata": {
    "execution": {
     "iopub.execute_input": "2023-02-11T14:56:02.246449Z",
     "iopub.status.busy": "2023-02-11T14:56:02.245657Z",
     "iopub.status.idle": "2023-02-11T14:56:13.077519Z",
     "shell.execute_reply": "2023-02-11T14:56:13.076233Z"
    },
    "papermill": {
     "duration": 10.844325,
     "end_time": "2023-02-11T14:56:13.080237",
     "exception": false,
     "start_time": "2023-02-11T14:56:02.235912",
     "status": "completed"
    },
    "tags": []
   },
   "outputs": [
    {
     "name": "stderr",
     "output_type": "stream",
     "text": [
      "2023-02-11 14:56:03.065765: I tensorflow/compiler/mlir/mlir_graph_optimization_pass.cc:185] None of the MLIR Optimization Passes are enabled (registered 2)\n"
     ]
    },
    {
     "name": "stdout",
     "output_type": "stream",
     "text": [
      "Epoch 1/20\n",
      "16/16 [==============================] - 1s 44ms/step - loss: 3.8120 - accuracy: 0.0884 - val_loss: 3.7980 - val_accuracy: 0.3530\n",
      "Epoch 2/20\n",
      "16/16 [==============================] - 0s 26ms/step - loss: 3.7882 - accuracy: 0.3141 - val_loss: 3.7771 - val_accuracy: 0.3530\n",
      "Epoch 3/20\n",
      "16/16 [==============================] - 0s 26ms/step - loss: 3.7677 - accuracy: 0.3400 - val_loss: 3.7570 - val_accuracy: 0.3530\n",
      "Epoch 4/20\n",
      "16/16 [==============================] - 0s 26ms/step - loss: 3.7478 - accuracy: 0.3514 - val_loss: 3.7373 - val_accuracy: 0.3530\n",
      "Epoch 5/20\n",
      "16/16 [==============================] - 0s 26ms/step - loss: 3.7280 - accuracy: 0.3514 - val_loss: 3.7177 - val_accuracy: 0.3530\n",
      "Epoch 6/20\n",
      "16/16 [==============================] - 0s 28ms/step - loss: 3.7085 - accuracy: 0.3514 - val_loss: 3.6983 - val_accuracy: 0.3530\n",
      "Epoch 7/20\n",
      "16/16 [==============================] - 0s 26ms/step - loss: 3.6890 - accuracy: 0.3514 - val_loss: 3.6790 - val_accuracy: 0.3530\n",
      "Epoch 8/20\n",
      "16/16 [==============================] - 0s 26ms/step - loss: 3.6698 - accuracy: 0.3514 - val_loss: 3.6599 - val_accuracy: 0.3530\n",
      "Epoch 9/20\n",
      "16/16 [==============================] - 0s 25ms/step - loss: 3.6507 - accuracy: 0.3514 - val_loss: 3.6408 - val_accuracy: 0.3530\n",
      "Epoch 10/20\n",
      "16/16 [==============================] - 1s 37ms/step - loss: 3.6317 - accuracy: 0.3514 - val_loss: 3.6221 - val_accuracy: 0.3530\n",
      "Epoch 11/20\n",
      "16/16 [==============================] - 1s 59ms/step - loss: 3.6129 - accuracy: 0.3514 - val_loss: 3.6034 - val_accuracy: 0.3530\n",
      "Epoch 12/20\n",
      "16/16 [==============================] - 0s 25ms/step - loss: 3.5942 - accuracy: 0.3514 - val_loss: 3.5849 - val_accuracy: 0.3530\n",
      "Epoch 13/20\n",
      "16/16 [==============================] - 0s 25ms/step - loss: 3.5757 - accuracy: 0.3514 - val_loss: 3.5664 - val_accuracy: 0.3530\n",
      "Epoch 14/20\n",
      "16/16 [==============================] - 0s 25ms/step - loss: 3.5573 - accuracy: 0.3514 - val_loss: 3.5481 - val_accuracy: 0.3530\n",
      "Epoch 15/20\n",
      "16/16 [==============================] - 0s 25ms/step - loss: 3.5391 - accuracy: 0.3514 - val_loss: 3.5300 - val_accuracy: 0.3530\n",
      "Epoch 16/20\n",
      "16/16 [==============================] - 0s 25ms/step - loss: 3.5210 - accuracy: 0.3514 - val_loss: 3.5121 - val_accuracy: 0.3530\n",
      "Epoch 17/20\n",
      "16/16 [==============================] - 0s 25ms/step - loss: 3.5031 - accuracy: 0.3514 - val_loss: 3.4942 - val_accuracy: 0.3530\n",
      "Epoch 18/20\n",
      "16/16 [==============================] - 0s 26ms/step - loss: 3.4853 - accuracy: 0.3514 - val_loss: 3.4766 - val_accuracy: 0.3530\n",
      "Epoch 19/20\n",
      "16/16 [==============================] - 0s 25ms/step - loss: 3.4677 - accuracy: 0.3514 - val_loss: 3.4591 - val_accuracy: 0.3530\n",
      "Epoch 20/20\n",
      "16/16 [==============================] - 0s 24ms/step - loss: 3.4503 - accuracy: 0.3514 - val_loss: 3.4417 - val_accuracy: 0.3530\n"
     ]
    }
   ],
   "source": [
    "history = model.fit(partial_x_train,\n",
    "partial_y_train,\n",
    "epochs=20,\n",
    "batch_size=512,\n",
    "validation_data=(x_val, y_val))"
   ]
  },
  {
   "cell_type": "code",
   "execution_count": 14,
   "id": "152a2aae",
   "metadata": {
    "execution": {
     "iopub.execute_input": "2023-02-11T14:56:13.117777Z",
     "iopub.status.busy": "2023-02-11T14:56:13.117059Z",
     "iopub.status.idle": "2023-02-11T14:56:13.477814Z",
     "shell.execute_reply": "2023-02-11T14:56:13.476598Z"
    },
    "papermill": {
     "duration": 0.382338,
     "end_time": "2023-02-11T14:56:13.480624",
     "exception": false,
     "start_time": "2023-02-11T14:56:13.098286",
     "status": "completed"
    },
    "tags": []
   },
   "outputs": [
    {
     "name": "stdout",
     "output_type": "stream",
     "text": [
      "71/71 [==============================] - 0s 2ms/step - loss: 3.4470 - accuracy: 0.3615\n"
     ]
    }
   ],
   "source": [
    "results = model.evaluate(test_data, one_hot_test_labels)"
   ]
  },
  {
   "cell_type": "code",
   "execution_count": 15,
   "id": "d6e41d9a",
   "metadata": {
    "execution": {
     "iopub.execute_input": "2023-02-11T14:56:13.518839Z",
     "iopub.status.busy": "2023-02-11T14:56:13.518397Z",
     "iopub.status.idle": "2023-02-11T14:56:13.524994Z",
     "shell.execute_reply": "2023-02-11T14:56:13.524119Z"
    },
    "papermill": {
     "duration": 0.028346,
     "end_time": "2023-02-11T14:56:13.527171",
     "exception": false,
     "start_time": "2023-02-11T14:56:13.498825",
     "status": "completed"
    },
    "tags": []
   },
   "outputs": [
    {
     "data": {
      "text/plain": [
       "dict_keys(['loss', 'accuracy', 'val_loss', 'val_accuracy'])"
      ]
     },
     "execution_count": 15,
     "metadata": {},
     "output_type": "execute_result"
    }
   ],
   "source": [
    "history.history.keys()"
   ]
  },
  {
   "cell_type": "code",
   "execution_count": 16,
   "id": "8abf0a3f",
   "metadata": {
    "execution": {
     "iopub.execute_input": "2023-02-11T14:56:13.565655Z",
     "iopub.status.busy": "2023-02-11T14:56:13.564794Z",
     "iopub.status.idle": "2023-02-11T14:56:13.827724Z",
     "shell.execute_reply": "2023-02-11T14:56:13.826622Z"
    },
    "papermill": {
     "duration": 0.285186,
     "end_time": "2023-02-11T14:56:13.830286",
     "exception": false,
     "start_time": "2023-02-11T14:56:13.545100",
     "status": "completed"
    },
    "tags": []
   },
   "outputs": [
    {
     "data": {
      "image/png": "[encoded data removed]",
      "text/plain": [
       "<Figure size 432x288 with 1 Axes>"
      ]
     },
     "metadata": {
      "needs_background": "light"
     },
     "output_type": "display_data"
    }
   ],
   "source": [
    "import matplotlib.pyplot as plt\n",
    "loss = history.history['loss']\n",
    "val_loss = history.history['val_loss']\n",
    "epochs = range(1, len(loss) + 1)\n",
    "plt.plot(epochs, loss, 'bo', label='Training loss')\n",
    "plt.plot(epochs, val_loss, 'b', label='Validation loss')\n",
    "plt.title('Training and validation loss')\n",
    "plt.xlabel('Epochs')\n",
    "plt.ylabel('Loss')\n",
    "plt.legend()\n",
    "plt.show()"
   ]
  },
  {
   "cell_type": "code",
   "execution_count": 17,
   "id": "606a7883",
   "metadata": {
    "execution": {
     "iopub.execute_input": "2023-02-11T14:56:13.869646Z",
     "iopub.status.busy": "2023-02-11T14:56:13.869213Z",
     "iopub.status.idle": "2023-02-11T14:56:14.101828Z",
     "shell.execute_reply": "2023-02-11T14:56:14.100761Z"
    },
    "papermill": {
     "duration": 0.255567,
     "end_time": "2023-02-11T14:56:14.104365",
     "exception": false,
     "start_time": "2023-02-11T14:56:13.848798",
     "status": "completed"
    },
    "tags": []
   },
   "outputs": [
    {
     "data": {
      "image/png": "[encoded data removed]",
      "text/plain": [
       "<Figure size 432x288 with 1 Axes>"
      ]
     },
     "metadata": {
      "needs_background": "light"
     },
     "output_type": "display_data"
    }
   ],
   "source": [
    "acc = history.history['accuracy']\n",
    "val_acc = history.history['val_accuracy']\n",
    "plt.plot(epochs, acc, 'bo', label='Training acc')\n",
    "plt.plot(epochs, val_acc, 'b', label='Validation acc')\n",
    "plt.title('Training and validation accuracy')\n",
    "plt.xlabel('Epochs')\n",
    "plt.ylabel('Loss')\n",
    "plt.legend()\n",
    "plt.show()"
   ]
  },
  {
   "cell_type": "markdown",
   "id": "68940b44",
   "metadata": {
    "papermill": {
     "duration": 0.018795,
     "end_time": "2023-02-11T14:56:14.142092",
     "exception": false,
     "start_time": "2023-02-11T14:56:14.123297",
     "status": "completed"
    },
    "tags": []
   },
   "source": [
    "Retraining a model from scratch"
   ]
  },
  {
   "cell_type": "code",
   "execution_count": 18,
   "id": "80c3c87d",
   "metadata": {
    "execution": {
     "iopub.execute_input": "2023-02-11T14:56:14.182126Z",
     "iopub.status.busy": "2023-02-11T14:56:14.181715Z",
     "iopub.status.idle": "2023-02-11T14:56:19.598074Z",
     "shell.execute_reply": "2023-02-11T14:56:19.596593Z"
    },
    "papermill": {
     "duration": 5.439751,
     "end_time": "2023-02-11T14:56:19.600879",
     "exception": false,
     "start_time": "2023-02-11T14:56:14.161128",
     "status": "completed"
    },
    "tags": []
   },
   "outputs": [
    {
     "name": "stdout",
     "output_type": "stream",
     "text": [
      "Epoch 1/9\n",
      "16/16 [==============================] - 1s 41ms/step - loss: 3.8120 - accuracy: 0.3331 - val_loss: 3.7979 - val_accuracy: 0.3530\n",
      "Epoch 2/9\n",
      "16/16 [==============================] - 0s 26ms/step - loss: 3.7881 - accuracy: 0.3514 - val_loss: 3.7771 - val_accuracy: 0.3530\n",
      "Epoch 3/9\n",
      "16/16 [==============================] - 0s 26ms/step - loss: 3.7677 - accuracy: 0.3514 - val_loss: 3.7570 - val_accuracy: 0.3530\n",
      "Epoch 4/9\n",
      "16/16 [==============================] - 0s 26ms/step - loss: 3.7477 - accuracy: 0.3514 - val_loss: 3.7373 - val_accuracy: 0.3530\n",
      "Epoch 5/9\n",
      "16/16 [==============================] - 0s 27ms/step - loss: 3.7280 - accuracy: 0.3514 - val_loss: 3.7177 - val_accuracy: 0.3530\n",
      "Epoch 6/9\n",
      "16/16 [==============================] - 0s 28ms/step - loss: 3.7084 - accuracy: 0.3514 - val_loss: 3.6983 - val_accuracy: 0.3530\n",
      "Epoch 7/9\n",
      "16/16 [==============================] - 0s 26ms/step - loss: 3.6890 - accuracy: 0.3514 - val_loss: 3.6790 - val_accuracy: 0.3530\n",
      "Epoch 8/9\n",
      "16/16 [==============================] - 0s 26ms/step - loss: 3.6697 - accuracy: 0.3514 - val_loss: 3.6599 - val_accuracy: 0.3530\n",
      "Epoch 9/9\n",
      "16/16 [==============================] - 0s 25ms/step - loss: 3.6505 - accuracy: 0.3514 - val_loss: 3.6408 - val_accuracy: 0.3530\n",
      "71/71 [==============================] - 0s 2ms/step - loss: 3.6431 - accuracy: 0.3615\n"
     ]
    }
   ],
   "source": [
    "model = models.Sequential()\n",
    "model.add(layers.Dense(64, activation='relu', input_shape=(10000,)))\n",
    "model.add(layers.Dense(64, activation='relu'))\n",
    "model.add(layers.Dense(46, activation='softmax'))\n",
    "model.compile(optimizer='rmsprop',\n",
    "loss='categorical_crossentropy',\n",
    "metrics=['accuracy'])\n",
    "history2= model.fit(partial_x_train, partial_y_train, epochs=9, batch_size=512, validation_data=(x_val, y_val))\n",
    "results2 = model.evaluate(test_data, one_hot_test_labels)"
   ]
  },
  {
   "cell_type": "code",
   "execution_count": 19,
   "id": "ecff0e62",
   "metadata": {
    "execution": {
     "iopub.execute_input": "2023-02-11T14:56:19.651260Z",
     "iopub.status.busy": "2023-02-11T14:56:19.650834Z",
     "iopub.status.idle": "2023-02-11T14:56:19.893941Z",
     "shell.execute_reply": "2023-02-11T14:56:19.892693Z"
    },
    "papermill": {
     "duration": 0.271038,
     "end_time": "2023-02-11T14:56:19.896516",
     "exception": false,
     "start_time": "2023-02-11T14:56:19.625478",
     "status": "completed"
    },
    "tags": []
   },
   "outputs": [
    {
     "data": {
      "image/png": "[encoded data removed]",
      "text/plain": [
       "<Figure size 432x288 with 1 Axes>"
      ]
     },
     "metadata": {
      "needs_background": "light"
     },
     "output_type": "display_data"
    }
   ],
   "source": [
    "import matplotlib.pyplot as plt\n",
    "loss2 = history2.history['loss']\n",
    "val_loss2 = history2.history['val_loss']\n",
    "epochs2 = range(1, len(loss2) + 1)\n",
    "plt.plot(epochs2, loss2, 'bo', label='Training loss')\n",
    "plt.plot(epochs2, val_loss2, 'b', label='Validation loss')\n",
    "plt.title('Training and validation loss')\n",
    "plt.xlabel('Epochs')\n",
    "plt.ylabel('Loss')\n",
    "plt.legend()\n",
    "plt.show()"
   ]
  },
  {
   "cell_type": "code",
   "execution_count": 20,
   "id": "d0ea552b",
   "metadata": {
    "execution": {
     "iopub.execute_input": "2023-02-11T14:56:19.946513Z",
     "iopub.status.busy": "2023-02-11T14:56:19.946033Z",
     "iopub.status.idle": "2023-02-11T14:56:20.197142Z",
     "shell.execute_reply": "2023-02-11T14:56:20.195918Z"
    },
    "papermill": {
     "duration": 0.279338,
     "end_time": "2023-02-11T14:56:20.199943",
     "exception": false,
     "start_time": "2023-02-11T14:56:19.920605",
     "status": "completed"
    },
    "tags": []
   },
   "outputs": [
    {
     "data": {
      "image/png": "[encoded data removed]",
      "text/plain": [
       "<Figure size 432x288 with 1 Axes>"
      ]
     },
     "metadata": {
      "needs_background": "light"
     },
     "output_type": "display_data"
    }
   ],
   "source": [
    "acc2 = history2.history['accuracy']\n",
    "val_acc2 = history2.history['val_accuracy']\n",
    "plt.plot(epochs2, acc2, 'bo', label='Training acc')\n",
    "plt.plot(epochs2, val_acc2, 'b', label='Validation acc')\n",
    "plt.title('Training and validation accuracy')\n",
    "plt.xlabel('Epochs')\n",
    "plt.ylabel('Loss')\n",
    "plt.legend()\n",
    "plt.show()"
   ]
  },
  {
   "cell_type": "code",
   "execution_count": 21,
   "id": "b0ee42e8",
   "metadata": {
    "execution": {
     "iopub.execute_input": "2023-02-11T14:56:20.252301Z",
     "iopub.status.busy": "2023-02-11T14:56:20.251177Z",
     "iopub.status.idle": "2023-02-11T14:56:20.257777Z",
     "shell.execute_reply": "2023-02-11T14:56:20.256500Z"
    },
    "papermill": {
     "duration": 0.035196,
     "end_time": "2023-02-11T14:56:20.260462",
     "exception": false,
     "start_time": "2023-02-11T14:56:20.225266",
     "status": "completed"
    },
    "tags": []
   },
   "outputs": [
    {
     "name": "stdout",
     "output_type": "stream",
     "text": [
      "[3.4469516277313232, 0.3615316152572632] [3.643095016479492, 0.3615316152572632]\n"
     ]
    }
   ],
   "source": [
    "print(results, results2)"
   ]
  },
  {
   "cell_type": "code",
   "execution_count": 22,
   "id": "f91c51c8",
   "metadata": {
    "execution": {
     "iopub.execute_input": "2023-02-11T14:56:20.310587Z",
     "iopub.status.busy": "2023-02-11T14:56:20.310139Z",
     "iopub.status.idle": "2023-02-11T14:57:08.891096Z",
     "shell.execute_reply": "2023-02-11T14:57:08.889953Z"
    },
    "papermill": {
     "duration": 48.609298,
     "end_time": "2023-02-11T14:57:08.893820",
     "exception": false,
     "start_time": "2023-02-11T14:56:20.284522",
     "status": "completed"
    },
    "tags": []
   },
   "outputs": [
    {
     "name": "stdout",
     "output_type": "stream",
     "text": [
      "Epoch 1/25\n",
      "16/16 [==============================] - 3s 127ms/step - loss: 3.8120 - accuracy: 0.1879 - val_loss: 3.7982 - val_accuracy: 0.2220\n",
      "Epoch 2/25\n",
      "16/16 [==============================] - 2s 117ms/step - loss: 3.7882 - accuracy: 0.2164 - val_loss: 3.7772 - val_accuracy: 0.2220\n",
      "Epoch 3/25\n",
      "16/16 [==============================] - 2s 118ms/step - loss: 3.7678 - accuracy: 0.2393 - val_loss: 3.7572 - val_accuracy: 0.2220\n",
      "Epoch 4/25\n",
      "16/16 [==============================] - 2s 120ms/step - loss: 3.7479 - accuracy: 0.2164 - val_loss: 3.7375 - val_accuracy: 0.2220\n",
      "Epoch 5/25\n",
      "16/16 [==============================] - 2s 118ms/step - loss: 3.7282 - accuracy: 0.2164 - val_loss: 3.7179 - val_accuracy: 0.2220\n",
      "Epoch 6/25\n",
      "16/16 [==============================] - 2s 123ms/step - loss: 3.7085 - accuracy: 0.2164 - val_loss: 3.6985 - val_accuracy: 0.2220\n",
      "Epoch 7/25\n",
      "16/16 [==============================] - 2s 118ms/step - loss: 3.6890 - accuracy: 0.2339 - val_loss: 3.6791 - val_accuracy: 0.2220\n",
      "Epoch 8/25\n",
      "16/16 [==============================] - 2s 115ms/step - loss: 3.6697 - accuracy: 0.2226 - val_loss: 3.6599 - val_accuracy: 0.2220\n",
      "Epoch 9/25\n",
      "16/16 [==============================] - 2s 114ms/step - loss: 3.6506 - accuracy: 0.2234 - val_loss: 3.6410 - val_accuracy: 0.2220\n",
      "Epoch 10/25\n",
      "16/16 [==============================] - 2s 157ms/step - loss: 3.6316 - accuracy: 0.2228 - val_loss: 3.6220 - val_accuracy: 0.3530\n",
      "Epoch 11/25\n",
      "16/16 [==============================] - 2s 114ms/step - loss: 3.6127 - accuracy: 0.3099 - val_loss: 3.6033 - val_accuracy: 0.2220\n",
      "Epoch 12/25\n",
      "16/16 [==============================] - 2s 113ms/step - loss: 3.5941 - accuracy: 0.2854 - val_loss: 3.5848 - val_accuracy: 0.2220\n",
      "Epoch 13/25\n",
      "16/16 [==============================] - 2s 112ms/step - loss: 3.5755 - accuracy: 0.2392 - val_loss: 3.5664 - val_accuracy: 0.3530\n",
      "Epoch 14/25\n",
      "16/16 [==============================] - 2s 113ms/step - loss: 3.5572 - accuracy: 0.3514 - val_loss: 3.5482 - val_accuracy: 0.2220\n",
      "Epoch 15/25\n",
      "16/16 [==============================] - 2s 114ms/step - loss: 3.5390 - accuracy: 0.2684 - val_loss: 3.5301 - val_accuracy: 0.3530\n",
      "Epoch 16/25\n",
      "16/16 [==============================] - 2s 120ms/step - loss: 3.5210 - accuracy: 0.3270 - val_loss: 3.5121 - val_accuracy: 0.3530\n",
      "Epoch 17/25\n",
      "16/16 [==============================] - 2s 112ms/step - loss: 3.5030 - accuracy: 0.3514 - val_loss: 3.4943 - val_accuracy: 0.3530\n",
      "Epoch 18/25\n",
      "16/16 [==============================] - 2s 112ms/step - loss: 3.4853 - accuracy: 0.3514 - val_loss: 3.4766 - val_accuracy: 0.3530\n",
      "Epoch 19/25\n",
      "16/16 [==============================] - 2s 114ms/step - loss: 3.4676 - accuracy: 0.3514 - val_loss: 3.4590 - val_accuracy: 0.3530\n",
      "Epoch 20/25\n",
      "16/16 [==============================] - 2s 113ms/step - loss: 3.4502 - accuracy: 0.3514 - val_loss: 3.4417 - val_accuracy: 0.3530\n",
      "Epoch 21/25\n",
      "16/16 [==============================] - 2s 114ms/step - loss: 3.4329 - accuracy: 0.3514 - val_loss: 3.4246 - val_accuracy: 0.3530\n",
      "Epoch 22/25\n",
      "16/16 [==============================] - 2s 117ms/step - loss: 3.4158 - accuracy: 0.3514 - val_loss: 3.4075 - val_accuracy: 0.3530\n",
      "Epoch 23/25\n",
      "16/16 [==============================] - 2s 113ms/step - loss: 3.3988 - accuracy: 0.3514 - val_loss: 3.3906 - val_accuracy: 0.3530\n",
      "Epoch 24/25\n",
      "16/16 [==============================] - 2s 114ms/step - loss: 3.3820 - accuracy: 0.3514 - val_loss: 3.3739 - val_accuracy: 0.3530\n",
      "Epoch 25/25\n",
      "16/16 [==============================] - 2s 113ms/step - loss: 3.3654 - accuracy: 0.3514 - val_loss: 3.3573 - val_accuracy: 0.3530\n",
      "71/71 [==============================] - 0s 6ms/step - loss: 3.3638 - accuracy: 0.3615\n"
     ]
    }
   ],
   "source": [
    "model = models.Sequential()\n",
    "model.add(layers.Dense(512, activation='relu', input_shape=(10000,)))\n",
    "model.add(layers.Dense(64, activation='relu'))\n",
    "model.add(layers.Dense(46, activation='softmax'))\n",
    "model.compile(optimizer='rmsprop',\n",
    "loss='categorical_crossentropy',\n",
    "metrics=['accuracy'])\n",
    "history3= model.fit(partial_x_train, partial_y_train, epochs=25, batch_size=512, validation_data=(x_val, y_val))\n",
    "results3 = model.evaluate(test_data, one_hot_test_labels)"
   ]
  },
  {
   "cell_type": "code",
   "execution_count": null,
   "id": "b583e97b",
   "metadata": {
    "papermill": {
     "duration": 0.052462,
     "end_time": "2023-02-11T14:57:09.000667",
     "exception": false,
     "start_time": "2023-02-11T14:57:08.948205",
     "status": "completed"
    },
    "tags": []
   },
   "outputs": [],
   "source": []
  },
  {
   "cell_type": "code",
   "execution_count": null,
   "id": "7fb634ef",
   "metadata": {
    "papermill": {
     "duration": 0.053504,
     "end_time": "2023-02-11T14:57:09.107868",
     "exception": false,
     "start_time": "2023-02-11T14:57:09.054364",
     "status": "completed"
    },
    "tags": []
   },
   "outputs": [],
   "source": []
  },
  {
   "cell_type": "code",
   "execution_count": null,
   "id": "f2ad3319",
   "metadata": {
    "papermill": {
     "duration": 0.053014,
     "end_time": "2023-02-11T14:57:09.214850",
     "exception": false,
     "start_time": "2023-02-11T14:57:09.161836",
     "status": "completed"
    },
    "tags": []
   },
   "outputs": [],
   "source": []
  },
  {
   "cell_type": "code",
   "execution_count": null,
   "id": "26328876",
   "metadata": {
    "papermill": {
     "duration": 0.051768,
     "end_time": "2023-02-11T14:57:09.318993",
     "exception": false,
     "start_time": "2023-02-11T14:57:09.267225",
     "status": "completed"
    },
    "tags": []
   },
   "outputs": [],
   "source": []
  }
 ],
 "metadata": {
  "kernelspec": {
   "display_name": "Python 3",
   "language": "python",
   "name": "python3"
  },
  "language_info": {
   "codemirror_mode": {
    "name": "ipython",
    "version": 3
   },
   "file_extension": ".py",
   "mimetype": "text/x-python",
   "name": "python",
   "nbconvert_exporter": "python",
   "pygments_lexer": "ipython3",
   "version": "3.7.12"
  },
  "papermill": {
   "default_parameters": {},
   "duration": 88.215575,
   "end_time": "2023-02-11T14:57:12.912404",
   "environment_variables": {},
   "exception": null,
   "input_path": "__notebook__.ipynb",
   "output_path": "__notebook__.ipynb",
   "parameters": {},
   "start_time": "2023-02-11T14:55:44.696829",
   "version": "2.3.4"
  }
 },
 "nbformat": 4,
 "nbformat_minor": 5
}
