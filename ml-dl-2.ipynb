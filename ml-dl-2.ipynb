{
 "cells": [
  {
   "cell_type": "code",
   "execution_count": 1,
   "id": "a53be740",
   "metadata": {
    "_cell_guid": "b1076dfc-b9ad-4769-8c92-a6c4dae69d19",
    "_uuid": "8f2839f25d086af736a60e9eeb907d3b93b6e0e5",
    "execution": {
     "iopub.execute_input": "2023-02-10T23:09:37.682936Z",
     "iopub.status.busy": "2023-02-10T23:09:37.682121Z",
     "iopub.status.idle": "2023-02-10T23:09:37.700099Z",
     "shell.execute_reply": "2023-02-10T23:09:37.698802Z"
    },
    "papermill": {
     "duration": 0.041682,
     "end_time": "2023-02-10T23:09:37.703550",
     "exception": false,
     "start_time": "2023-02-10T23:09:37.661868",
     "status": "completed"
    },
    "tags": []
   },
   "outputs": [],
   "source": [
    "# This Python 3 environment comes with many helpful analytics libraries installed\n",
    "# It is defined by the kaggle/python Docker image: https://github.com/kaggle/docker-python\n",
    "# For example, here's several helpful packages to load\n",
    "\n",
    "import numpy as np # linear algebra\n",
    "import pandas as pd # data processing, CSV file I/O (e.g. pd.read_csv)\n",
    "\n",
    "# Input data files are available in the read-only \"../input/\" directory\n",
    "# For example, running this (by clicking run or pressing Shift+Enter) will list all files under the input directory\n",
    "\n",
    "import os\n",
    "for dirname, _, filenames in os.walk('/kaggle/input'):\n",
    "    for filename in filenames:\n",
    "        print(os.path.join(dirname, filename))\n",
    "\n",
    "# You can write up to 20GB to the current directory (/kaggle/working/) that gets preserved as output when you create a version using \"Save & Run All\" \n",
    "# You can also write temporary files to /kaggle/temp/, but they won't be saved outside of the current session"
   ]
  },
  {
   "cell_type": "code",
   "execution_count": 2,
   "id": "0df7860d",
   "metadata": {
    "execution": {
     "iopub.execute_input": "2023-02-10T23:09:37.738307Z",
     "iopub.status.busy": "2023-02-10T23:09:37.737116Z",
     "iopub.status.idle": "2023-02-10T23:09:45.745093Z",
     "shell.execute_reply": "2023-02-10T23:09:45.743656Z"
    },
    "papermill": {
     "duration": 8.028847,
     "end_time": "2023-02-10T23:09:45.748716",
     "exception": false,
     "start_time": "2023-02-10T23:09:37.719869",
     "status": "completed"
    },
    "tags": []
   },
   "outputs": [
    {
     "name": "stdout",
     "output_type": "stream",
     "text": [
      "Downloading data from https://storage.googleapis.com/tensorflow/tf-keras-datasets/mnist.npz\n",
      "11493376/11490434 [==============================] - 0s 0us/step\n",
      "11501568/11490434 [==============================] - 0s 0us/step\n"
     ]
    }
   ],
   "source": [
    "from keras.datasets import mnist \n",
    "(train_images, train_labels),(test_images, test_labels)= mnist.load_data()"
   ]
  },
  {
   "cell_type": "code",
   "execution_count": 3,
   "id": "86fa9473",
   "metadata": {
    "execution": {
     "iopub.execute_input": "2023-02-10T23:09:45.785691Z",
     "iopub.status.busy": "2023-02-10T23:09:45.784782Z",
     "iopub.status.idle": "2023-02-10T23:09:45.792690Z",
     "shell.execute_reply": "2023-02-10T23:09:45.791145Z"
    },
    "papermill": {
     "duration": 0.029464,
     "end_time": "2023-02-10T23:09:45.796065",
     "exception": false,
     "start_time": "2023-02-10T23:09:45.766601",
     "status": "completed"
    },
    "tags": []
   },
   "outputs": [
    {
     "name": "stdout",
     "output_type": "stream",
     "text": [
      "train_images: 60000 test_images: 10000\n"
     ]
    }
   ],
   "source": [
    "print('train_images: '+ str(len(train_images))+ \" test_images: \" + str(len(test_images)))"
   ]
  },
  {
   "cell_type": "code",
   "execution_count": 4,
   "id": "da31e6a9",
   "metadata": {
    "execution": {
     "iopub.execute_input": "2023-02-10T23:09:45.831438Z",
     "iopub.status.busy": "2023-02-10T23:09:45.830888Z",
     "iopub.status.idle": "2023-02-10T23:09:45.838958Z",
     "shell.execute_reply": "2023-02-10T23:09:45.837383Z"
    },
    "papermill": {
     "duration": 0.028472,
     "end_time": "2023-02-10T23:09:45.841866",
     "exception": false,
     "start_time": "2023-02-10T23:09:45.813394",
     "status": "completed"
    },
    "tags": []
   },
   "outputs": [
    {
     "name": "stdout",
     "output_type": "stream",
     "text": [
      "train_images: (60000, 28, 28) test_images: (10000, 28, 28)\n"
     ]
    }
   ],
   "source": [
    "print('train_images: '+ str((train_images.shape))+ \" test_images: \" + str((test_images.shape)))"
   ]
  },
  {
   "cell_type": "code",
   "execution_count": 5,
   "id": "490d6edf",
   "metadata": {
    "execution": {
     "iopub.execute_input": "2023-02-10T23:09:45.876163Z",
     "iopub.status.busy": "2023-02-10T23:09:45.875642Z",
     "iopub.status.idle": "2023-02-10T23:09:46.120601Z",
     "shell.execute_reply": "2023-02-10T23:09:46.119235Z"
    },
    "papermill": {
     "duration": 0.266115,
     "end_time": "2023-02-10T23:09:46.123661",
     "exception": false,
     "start_time": "2023-02-10T23:09:45.857546",
     "status": "completed"
    },
    "tags": []
   },
   "outputs": [
    {
     "data": {
      "image/png": "[encoded data removed]",
      "text/plain": [
       "<Figure size 432x288 with 1 Axes>"
      ]
     },
     "metadata": {
      "needs_background": "light"
     },
     "output_type": "display_data"
    }
   ],
   "source": [
    "import matplotlib.pyplot as plt\n",
    "plt.imshow(train_images[0], cmap=plt.cm.binary )\n",
    "plt.show()"
   ]
  },
  {
   "cell_type": "code",
   "execution_count": 6,
   "id": "1d302022",
   "metadata": {
    "execution": {
     "iopub.execute_input": "2023-02-10T23:09:46.157797Z",
     "iopub.status.busy": "2023-02-10T23:09:46.157255Z",
     "iopub.status.idle": "2023-02-10T23:09:46.299589Z",
     "shell.execute_reply": "2023-02-10T23:09:46.298293Z"
    },
    "papermill": {
     "duration": 0.163126,
     "end_time": "2023-02-10T23:09:46.302811",
     "exception": false,
     "start_time": "2023-02-10T23:09:46.139685",
     "status": "completed"
    },
    "tags": []
   },
   "outputs": [],
   "source": [
    "train_images = train_images.reshape(60000,28*28)\n",
    "train_images = train_images.astype('float32')/255\n",
    "test_images = test_images.reshape(10000,28*28)\n",
    "test_images = test_images.astype('float32')/255"
   ]
  },
  {
   "cell_type": "code",
   "execution_count": 7,
   "id": "159d3242",
   "metadata": {
    "execution": {
     "iopub.execute_input": "2023-02-10T23:09:46.336650Z",
     "iopub.status.busy": "2023-02-10T23:09:46.336098Z",
     "iopub.status.idle": "2023-02-10T23:09:46.342089Z",
     "shell.execute_reply": "2023-02-10T23:09:46.340767Z"
    },
    "papermill": {
     "duration": 0.026287,
     "end_time": "2023-02-10T23:09:46.344919",
     "exception": false,
     "start_time": "2023-02-10T23:09:46.318632",
     "status": "completed"
    },
    "tags": []
   },
   "outputs": [],
   "source": [
    "from keras import layers\n",
    "from keras import models"
   ]
  },
  {
   "cell_type": "code",
   "execution_count": 8,
   "id": "5a1b4c3b",
   "metadata": {
    "execution": {
     "iopub.execute_input": "2023-02-10T23:09:46.378274Z",
     "iopub.status.busy": "2023-02-10T23:09:46.377761Z",
     "iopub.status.idle": "2023-02-10T23:09:46.524826Z",
     "shell.execute_reply": "2023-02-10T23:09:46.523276Z"
    },
    "papermill": {
     "duration": 0.167588,
     "end_time": "2023-02-10T23:09:46.528104",
     "exception": false,
     "start_time": "2023-02-10T23:09:46.360516",
     "status": "completed"
    },
    "tags": []
   },
   "outputs": [
    {
     "name": "stderr",
     "output_type": "stream",
     "text": [
      "2023-02-10 23:09:46.431564: I tensorflow/core/common_runtime/process_util.cc:146] Creating new thread pool with default inter op setting: 2. Tune using inter_op_parallelism_threads for best performance.\n"
     ]
    }
   ],
   "source": [
    "network= models.Sequential()\n",
    "network.add(layers.Dense(512, activation='relu',input_shape=(28*28,)))\n",
    "network.add(layers.Dense(10, activation ='softmax'))"
   ]
  },
  {
   "cell_type": "code",
   "execution_count": 9,
   "id": "c9548a0c",
   "metadata": {
    "execution": {
     "iopub.execute_input": "2023-02-10T23:09:46.562911Z",
     "iopub.status.busy": "2023-02-10T23:09:46.562412Z",
     "iopub.status.idle": "2023-02-10T23:09:47.481709Z",
     "shell.execute_reply": "2023-02-10T23:09:47.479717Z"
    },
    "papermill": {
     "duration": 0.940283,
     "end_time": "2023-02-10T23:09:47.485054",
     "exception": false,
     "start_time": "2023-02-10T23:09:46.544771",
     "status": "completed"
    },
    "tags": []
   },
   "outputs": [
    {
     "name": "stdout",
     "output_type": "stream",
     "text": [
      "[5 0 4 ... 5 6 8] [7 2 1 ... 4 5 6]\n",
      "[[0. 0. 0. ... 0. 0. 0.]\n",
      " [1. 0. 0. ... 0. 0. 0.]\n",
      " [0. 0. 0. ... 0. 0. 0.]\n",
      " ...\n",
      " [0. 0. 0. ... 0. 0. 0.]\n",
      " [0. 0. 0. ... 0. 0. 0.]\n",
      " [0. 0. 0. ... 0. 1. 0.]] [[0. 0. 0. ... 1. 0. 0.]\n",
      " [0. 0. 1. ... 0. 0. 0.]\n",
      " [0. 1. 0. ... 0. 0. 0.]\n",
      " ...\n",
      " [0. 0. 0. ... 0. 0. 0.]\n",
      " [0. 0. 0. ... 0. 0. 0.]\n",
      " [0. 0. 0. ... 0. 0. 0.]]\n"
     ]
    }
   ],
   "source": [
    "from tensorflow.keras.utils import to_categorical\n",
    "print(train_labels, test_labels)\n",
    "train_labels = to_categorical(train_labels)\n",
    "test_labels = to_categorical(test_labels)\n",
    "print(train_labels, test_labels)"
   ]
  },
  {
   "cell_type": "code",
   "execution_count": 10,
   "id": "021aa7fd",
   "metadata": {
    "execution": {
     "iopub.execute_input": "2023-02-10T23:09:47.527940Z",
     "iopub.status.busy": "2023-02-10T23:09:47.526690Z",
     "iopub.status.idle": "2023-02-10T23:09:47.549132Z",
     "shell.execute_reply": "2023-02-10T23:09:47.547692Z"
    },
    "papermill": {
     "duration": 0.048331,
     "end_time": "2023-02-10T23:09:47.552678",
     "exception": false,
     "start_time": "2023-02-10T23:09:47.504347",
     "status": "completed"
    },
    "tags": []
   },
   "outputs": [],
   "source": [
    "from keras import optimizers\n",
    "network.compile(optimizer='rmsprop',\n",
    "loss='mse',\n",
    "metrics=['accuracy'])"
   ]
  },
  {
   "cell_type": "code",
   "execution_count": 11,
   "id": "4ecddbd8",
   "metadata": {
    "execution": {
     "iopub.execute_input": "2023-02-10T23:09:47.596422Z",
     "iopub.status.busy": "2023-02-10T23:09:47.595335Z",
     "iopub.status.idle": "2023-02-10T23:09:47.605560Z",
     "shell.execute_reply": "2023-02-10T23:09:47.604260Z"
    },
    "papermill": {
     "duration": 0.038608,
     "end_time": "2023-02-10T23:09:47.608977",
     "exception": false,
     "start_time": "2023-02-10T23:09:47.570369",
     "status": "completed"
    },
    "tags": []
   },
   "outputs": [
    {
     "data": {
      "text/plain": [
       "['Optimizer',\n",
       " 'TFOptimizer',\n",
       " '__builtins__',\n",
       " '__cached__',\n",
       " '__doc__',\n",
       " '__file__',\n",
       " '__loader__',\n",
       " '__name__',\n",
       " '__package__',\n",
       " '__spec__',\n",
       " 'adadelta_v2',\n",
       " 'adagrad_v2',\n",
       " 'adam_v2',\n",
       " 'adamax_v2',\n",
       " 'backend',\n",
       " 'deserialize',\n",
       " 'deserialize_keras_object',\n",
       " 'ftrl',\n",
       " 'get',\n",
       " 'gradient_descent_v2',\n",
       " 'keras_export',\n",
       " 'nadam_v2',\n",
       " 'optimizer_v2',\n",
       " 'rmsprop_v2',\n",
       " 'serialize',\n",
       " 'serialize_keras_object',\n",
       " 'tf']"
      ]
     },
     "execution_count": 11,
     "metadata": {},
     "output_type": "execute_result"
    }
   ],
   "source": [
    "dir(optimizers)"
   ]
  },
  {
   "cell_type": "code",
   "execution_count": 12,
   "id": "05aa73bd",
   "metadata": {
    "execution": {
     "iopub.execute_input": "2023-02-10T23:09:47.644418Z",
     "iopub.status.busy": "2023-02-10T23:09:47.643866Z",
     "iopub.status.idle": "2023-02-10T23:10:24.086107Z",
     "shell.execute_reply": "2023-02-10T23:10:24.084968Z"
    },
    "papermill": {
     "duration": 36.462514,
     "end_time": "2023-02-10T23:10:24.088679",
     "exception": false,
     "start_time": "2023-02-10T23:09:47.626165",
     "status": "completed"
    },
    "tags": []
   },
   "outputs": [
    {
     "name": "stderr",
     "output_type": "stream",
     "text": [
      "2023-02-10 23:09:48.006456: I tensorflow/compiler/mlir/mlir_graph_optimization_pass.cc:185] None of the MLIR Optimization Passes are enabled (registered 2)\n"
     ]
    },
    {
     "name": "stdout",
     "output_type": "stream",
     "text": [
      "Epoch 1/10\n",
      "469/469 [==============================] - 4s 8ms/step - loss: 0.0121 - accuracy: 0.9213\n",
      "Epoch 2/10\n",
      "469/469 [==============================] - 3s 7ms/step - loss: 0.0054 - accuracy: 0.9656\n",
      "Epoch 3/10\n",
      "469/469 [==============================] - 3s 7ms/step - loss: 0.0037 - accuracy: 0.9770\n",
      "Epoch 4/10\n",
      "469/469 [==============================] - 3s 7ms/step - loss: 0.0028 - accuracy: 0.9828\n",
      "Epoch 5/10\n",
      "469/469 [==============================] - 4s 8ms/step - loss: 0.0022 - accuracy: 0.9871\n",
      "Epoch 6/10\n",
      "469/469 [==============================] - 3s 7ms/step - loss: 0.0018 - accuracy: 0.9893\n",
      "Epoch 7/10\n",
      "469/469 [==============================] - 4s 8ms/step - loss: 0.0015 - accuracy: 0.9912\n",
      "Epoch 8/10\n",
      "469/469 [==============================] - 4s 9ms/step - loss: 0.0012 - accuracy: 0.9927\n",
      "Epoch 9/10\n",
      "469/469 [==============================] - 3s 7ms/step - loss: 9.9771e-04 - accuracy: 0.9942\n",
      "Epoch 10/10\n",
      "469/469 [==============================] - 3s 7ms/step - loss: 8.3019e-04 - accuracy: 0.9954\n"
     ]
    },
    {
     "data": {
      "text/plain": [
       "<keras.callbacks.History at 0x7f4675e24810>"
      ]
     },
     "execution_count": 12,
     "metadata": {},
     "output_type": "execute_result"
    }
   ],
   "source": [
    "network.fit(train_images, train_labels, epochs=10, batch_size=128)"
   ]
  },
  {
   "cell_type": "code",
   "execution_count": 13,
   "id": "f9402ce0",
   "metadata": {
    "execution": {
     "iopub.execute_input": "2023-02-10T23:10:24.206860Z",
     "iopub.status.busy": "2023-02-10T23:10:24.206408Z",
     "iopub.status.idle": "2023-02-10T23:10:25.061709Z",
     "shell.execute_reply": "2023-02-10T23:10:25.060002Z"
    },
    "papermill": {
     "duration": 0.917952,
     "end_time": "2023-02-10T23:10:25.064634",
     "exception": false,
     "start_time": "2023-02-10T23:10:24.146682",
     "status": "completed"
    },
    "tags": []
   },
   "outputs": [
    {
     "name": "stdout",
     "output_type": "stream",
     "text": [
      "313/313 [==============================] - 1s 2ms/step - loss: 0.0032 - accuracy: 0.9782\n",
      "test_loss0.0032210727222263813test_accuracy0.9782000184059143\n"
     ]
    }
   ],
   "source": [
    "test_loss, test_accuracy =network.evaluate(test_images,test_labels)\n",
    "print('test_loss' +str(test_loss) + 'test_accuracy' + str(test_accuracy))"
   ]
  },
  {
   "cell_type": "markdown",
   "id": "4547a3a9",
   "metadata": {
    "papermill": {
     "duration": 0.057042,
     "end_time": "2023-02-10T23:10:25.180091",
     "exception": false,
     "start_time": "2023-02-10T23:10:25.123049",
     "status": "completed"
    },
    "tags": []
   },
   "source": [
    "**The argument num_words=10000 means you’ll only keep the top 10,000 most frequently occurring words in the training data**"
   ]
  },
  {
   "cell_type": "code",
   "execution_count": 14,
   "id": "13db905a",
   "metadata": {
    "execution": {
     "iopub.execute_input": "2023-02-10T23:10:25.296329Z",
     "iopub.status.busy": "2023-02-10T23:10:25.295794Z",
     "iopub.status.idle": "2023-02-10T23:10:30.784021Z",
     "shell.execute_reply": "2023-02-10T23:10:30.782591Z"
    },
    "papermill": {
     "duration": 5.549757,
     "end_time": "2023-02-10T23:10:30.787032",
     "exception": false,
     "start_time": "2023-02-10T23:10:25.237275",
     "status": "completed"
    },
    "tags": []
   },
   "outputs": [
    {
     "name": "stdout",
     "output_type": "stream",
     "text": [
      "Downloading data from https://storage.googleapis.com/tensorflow/tf-keras-datasets/imdb.npz\n",
      "17465344/17464789 [==============================] - 0s 0us/step\n",
      "17473536/17464789 [==============================] - 0s 0us/step\n"
     ]
    }
   ],
   "source": [
    "from keras.datasets import imdb\n",
    "(train_data, train_labels), (test_data, test_labels) = imdb.load_data(num_words=10000)"
   ]
  },
  {
   "cell_type": "code",
   "execution_count": 15,
   "id": "32665a5a",
   "metadata": {
    "execution": {
     "iopub.execute_input": "2023-02-10T23:10:30.907619Z",
     "iopub.status.busy": "2023-02-10T23:10:30.906886Z",
     "iopub.status.idle": "2023-02-10T23:10:30.914818Z",
     "shell.execute_reply": "2023-02-10T23:10:30.913577Z"
    },
    "papermill": {
     "duration": 0.07082,
     "end_time": "2023-02-10T23:10:30.917252",
     "exception": false,
     "start_time": "2023-02-10T23:10:30.846432",
     "status": "completed"
    },
    "tags": []
   },
   "outputs": [
    {
     "data": {
      "text/plain": [
       "(25000,)"
      ]
     },
     "execution_count": 15,
     "metadata": {},
     "output_type": "execute_result"
    }
   ],
   "source": [
    "train_data.shape"
   ]
  },
  {
   "cell_type": "markdown",
   "id": "732a133b",
   "metadata": {
    "papermill": {
     "duration": 0.057265,
     "end_time": "2023-02-10T23:10:31.033579",
     "exception": false,
     "start_time": "2023-02-10T23:10:30.976314",
     "status": "completed"
    },
    "tags": []
   },
   "source": [
    "> **Since we restricted our data to 10000 words, no index would exceed 10000**"
   ]
  },
  {
   "cell_type": "code",
   "execution_count": 16,
   "id": "35aa58a3",
   "metadata": {
    "execution": {
     "iopub.execute_input": "2023-02-10T23:10:31.150759Z",
     "iopub.status.busy": "2023-02-10T23:10:31.150337Z",
     "iopub.status.idle": "2023-02-10T23:10:31.291707Z",
     "shell.execute_reply": "2023-02-10T23:10:31.290488Z"
    },
    "papermill": {
     "duration": 0.203605,
     "end_time": "2023-02-10T23:10:31.294196",
     "exception": false,
     "start_time": "2023-02-10T23:10:31.090591",
     "status": "completed"
    },
    "tags": []
   },
   "outputs": [
    {
     "data": {
      "text/plain": [
       "9999"
      ]
     },
     "execution_count": 16,
     "metadata": {},
     "output_type": "execute_result"
    }
   ],
   "source": [
    "max([max(sequence) for sequence in train_data])"
   ]
  },
  {
   "cell_type": "markdown",
   "id": "c45e9ed1",
   "metadata": {
    "papermill": {
     "duration": 0.05745,
     "end_time": "2023-02-10T23:10:31.410644",
     "exception": false,
     "start_time": "2023-02-10T23:10:31.353194",
     "status": "completed"
    },
    "tags": []
   },
   "source": [
    "> **word_index is a dictionary mapping words to an integer index.**"
   ]
  },
  {
   "cell_type": "code",
   "execution_count": 17,
   "id": "819226bc",
   "metadata": {
    "execution": {
     "iopub.execute_input": "2023-02-10T23:10:31.527865Z",
     "iopub.status.busy": "2023-02-10T23:10:31.527420Z",
     "iopub.status.idle": "2023-02-10T23:10:31.647954Z",
     "shell.execute_reply": "2023-02-10T23:10:31.646623Z"
    },
    "papermill": {
     "duration": 0.182572,
     "end_time": "2023-02-10T23:10:31.650666",
     "exception": false,
     "start_time": "2023-02-10T23:10:31.468094",
     "status": "completed"
    },
    "tags": []
   },
   "outputs": [
    {
     "name": "stdout",
     "output_type": "stream",
     "text": [
      "Downloading data from https://storage.googleapis.com/tensorflow/tf-keras-datasets/imdb_word_index.json\n",
      "1646592/1641221 [==============================] - 0s 0us/step\n",
      "1654784/1641221 [==============================] - 0s 0us/step\n"
     ]
    }
   ],
   "source": [
    "word_index = imdb.get_word_index()"
   ]
  },
  {
   "cell_type": "code",
   "execution_count": 18,
   "id": "6458ceab",
   "metadata": {
    "execution": {
     "iopub.execute_input": "2023-02-10T23:10:31.768135Z",
     "iopub.status.busy": "2023-02-10T23:10:31.767351Z",
     "iopub.status.idle": "2023-02-10T23:10:31.781105Z",
     "shell.execute_reply": "2023-02-10T23:10:31.779268Z"
    },
    "papermill": {
     "duration": 0.076153,
     "end_time": "2023-02-10T23:10:31.784488",
     "exception": false,
     "start_time": "2023-02-10T23:10:31.708335",
     "status": "completed"
    },
    "tags": []
   },
   "outputs": [
    {
     "name": "stdout",
     "output_type": "stream",
     "text": [
      "first ten keys:['fawn', 'tsukino', 'nunnery', 'sonja', 'vani', 'woods', 'spiders', 'hanging', 'woody', 'trawling']\n",
      "first ten values:[34701, 52006, 52007, 16816, 63951, 1408, 16115, 2345, 2289, 52008]\n"
     ]
    }
   ],
   "source": [
    "print('first ten keys:' +str( list(word_index.keys())[:10]))\n",
    "print('first ten values:' +str( list(word_index.values())[:10]))"
   ]
  },
  {
   "cell_type": "markdown",
   "id": "f7743663",
   "metadata": {
    "papermill": {
     "duration": 0.05832,
     "end_time": "2023-02-10T23:10:31.900798",
     "exception": false,
     "start_time": "2023-02-10T23:10:31.842478",
     "status": "completed"
    },
    "tags": []
   },
   "source": [
    "> **Reverses it, mapping integer indices to words**"
   ]
  },
  {
   "cell_type": "code",
   "execution_count": 19,
   "id": "8807e14a",
   "metadata": {
    "execution": {
     "iopub.execute_input": "2023-02-10T23:10:32.021913Z",
     "iopub.status.busy": "2023-02-10T23:10:32.021358Z",
     "iopub.status.idle": "2023-02-10T23:10:32.071932Z",
     "shell.execute_reply": "2023-02-10T23:10:32.070522Z"
    },
    "papermill": {
     "duration": 0.115304,
     "end_time": "2023-02-10T23:10:32.074931",
     "exception": false,
     "start_time": "2023-02-10T23:10:31.959627",
     "status": "completed"
    },
    "tags": []
   },
   "outputs": [],
   "source": [
    "reverse_word_index = dict([(values, keys) for (keys,values) in word_index.items()])"
   ]
  },
  {
   "cell_type": "code",
   "execution_count": 20,
   "id": "b2f41c86",
   "metadata": {
    "execution": {
     "iopub.execute_input": "2023-02-10T23:10:32.195829Z",
     "iopub.status.busy": "2023-02-10T23:10:32.195392Z",
     "iopub.status.idle": "2023-02-10T23:10:32.203502Z",
     "shell.execute_reply": "2023-02-10T23:10:32.202086Z"
    },
    "papermill": {
     "duration": 0.073464,
     "end_time": "2023-02-10T23:10:32.206205",
     "exception": false,
     "start_time": "2023-02-10T23:10:32.132741",
     "status": "completed"
    },
    "tags": []
   },
   "outputs": [
    {
     "data": {
      "text/plain": [
       "1"
      ]
     },
     "execution_count": 20,
     "metadata": {},
     "output_type": "execute_result"
    }
   ],
   "source": [
    "train_data[0][0]"
   ]
  },
  {
   "cell_type": "markdown",
   "id": "d2717496",
   "metadata": {
    "papermill": {
     "duration": 0.057205,
     "end_time": "2023-02-10T23:10:32.321224",
     "exception": false,
     "start_time": "2023-02-10T23:10:32.264019",
     "status": "completed"
    },
    "tags": []
   },
   "source": [
    "> **Decodes the review. Note that the indices are offset by 3 because 0, 1, and 2 are\n",
    "> reserved indices for “padding,” “start of sequence,” and “unknown.”**"
   ]
  },
  {
   "cell_type": "code",
   "execution_count": 21,
   "id": "0c08be37",
   "metadata": {
    "execution": {
     "iopub.execute_input": "2023-02-10T23:10:32.440562Z",
     "iopub.status.busy": "2023-02-10T23:10:32.439268Z",
     "iopub.status.idle": "2023-02-10T23:10:32.447008Z",
     "shell.execute_reply": "2023-02-10T23:10:32.445888Z"
    },
    "papermill": {
     "duration": 0.070545,
     "end_time": "2023-02-10T23:10:32.449321",
     "exception": false,
     "start_time": "2023-02-10T23:10:32.378776",
     "status": "completed"
    },
    "tags": []
   },
   "outputs": [
    {
     "data": {
      "text/plain": [
       "218"
      ]
     },
     "execution_count": 21,
     "metadata": {},
     "output_type": "execute_result"
    }
   ],
   "source": [
    "len(train_data[0])"
   ]
  },
  {
   "cell_type": "code",
   "execution_count": 22,
   "id": "608d570a",
   "metadata": {
    "execution": {
     "iopub.execute_input": "2023-02-10T23:10:32.566988Z",
     "iopub.status.busy": "2023-02-10T23:10:32.565920Z",
     "iopub.status.idle": "2023-02-10T23:10:32.572081Z",
     "shell.execute_reply": "2023-02-10T23:10:32.571263Z"
    },
    "papermill": {
     "duration": 0.067485,
     "end_time": "2023-02-10T23:10:32.574515",
     "exception": false,
     "start_time": "2023-02-10T23:10:32.507030",
     "status": "completed"
    },
    "tags": []
   },
   "outputs": [],
   "source": [
    "decoded_review = ' '.join([reverse_word_index.get(i - 3,'?') for i in train_data[0]])\n"
   ]
  },
  {
   "cell_type": "markdown",
   "id": "3098be9d",
   "metadata": {
    "papermill": {
     "duration": 0.056845,
     "end_time": "2023-02-10T23:10:32.688692",
     "exception": false,
     "start_time": "2023-02-10T23:10:32.631847",
     "status": "completed"
    },
    "tags": []
   },
   "source": [
    "> **Now we need to convert the integers into tensors**"
   ]
  },
  {
   "cell_type": "markdown",
   "id": "bbc94dc5",
   "metadata": {
    "papermill": {
     "duration": 0.060732,
     "end_time": "2023-02-10T23:10:32.806852",
     "exception": false,
     "start_time": "2023-02-10T23:10:32.746120",
     "status": "completed"
    },
    "tags": []
   },
   "source": [
    "\n",
    "**Encoding the integer sequences into a binary matrix**"
   ]
  },
  {
   "cell_type": "markdown",
   "id": "4dcdb7a0",
   "metadata": {
    "papermill": {
     "duration": 0.058688,
     "end_time": "2023-02-10T23:10:32.924748",
     "exception": false,
     "start_time": "2023-02-10T23:10:32.866060",
     "status": "completed"
    },
    "tags": []
   },
   "source": [
    "> **The function below is going to convert our data in to vectors of 0s and 1s**"
   ]
  },
  {
   "cell_type": "code",
   "execution_count": 23,
   "id": "a7a5825e",
   "metadata": {
    "execution": {
     "iopub.execute_input": "2023-02-10T23:10:33.043918Z",
     "iopub.status.busy": "2023-02-10T23:10:33.043086Z",
     "iopub.status.idle": "2023-02-10T23:10:33.049628Z",
     "shell.execute_reply": "2023-02-10T23:10:33.048455Z"
    },
    "papermill": {
     "duration": 0.069059,
     "end_time": "2023-02-10T23:10:33.052231",
     "exception": false,
     "start_time": "2023-02-10T23:10:32.983172",
     "status": "completed"
    },
    "tags": []
   },
   "outputs": [],
   "source": [
    "def vectorize(sequences,dimensions=10000):\n",
    "    results=np.zeros((len(sequences),dimensions))\n",
    "    for i, sequence in enumerate(sequences):\n",
    "        results[i,sequence]=1\n",
    "    return results"
   ]
  },
  {
   "cell_type": "code",
   "execution_count": 24,
   "id": "94371fc6",
   "metadata": {
    "execution": {
     "iopub.execute_input": "2023-02-10T23:10:33.173914Z",
     "iopub.status.busy": "2023-02-10T23:10:33.173126Z",
     "iopub.status.idle": "2023-02-10T23:10:36.889569Z",
     "shell.execute_reply": "2023-02-10T23:10:36.888402Z"
    },
    "papermill": {
     "duration": 3.781983,
     "end_time": "2023-02-10T23:10:36.892571",
     "exception": false,
     "start_time": "2023-02-10T23:10:33.110588",
     "status": "completed"
    },
    "tags": []
   },
   "outputs": [],
   "source": [
    "x_train = vectorize(train_data)\n",
    "x_test = vectorize(test_data)"
   ]
  },
  {
   "cell_type": "code",
   "execution_count": 25,
   "id": "39131d51",
   "metadata": {
    "execution": {
     "iopub.execute_input": "2023-02-10T23:10:37.015537Z",
     "iopub.status.busy": "2023-02-10T23:10:37.015069Z",
     "iopub.status.idle": "2023-02-10T23:10:37.023672Z",
     "shell.execute_reply": "2023-02-10T23:10:37.022098Z"
    },
    "papermill": {
     "duration": 0.07329,
     "end_time": "2023-02-10T23:10:37.026416",
     "exception": false,
     "start_time": "2023-02-10T23:10:36.953126",
     "status": "completed"
    },
    "tags": []
   },
   "outputs": [
    {
     "data": {
      "text/plain": [
       "array([0., 1., 1., ..., 0., 0., 0.])"
      ]
     },
     "execution_count": 25,
     "metadata": {},
     "output_type": "execute_result"
    }
   ],
   "source": [
    "x_train[0]"
   ]
  },
  {
   "cell_type": "markdown",
   "id": "190cb595",
   "metadata": {
    "papermill": {
     "duration": 0.060614,
     "end_time": "2023-02-10T23:10:37.147285",
     "exception": false,
     "start_time": "2023-02-10T23:10:37.086671",
     "status": "completed"
    },
    "tags": []
   },
   "source": [
    "> **labels should also be vectorized**"
   ]
  },
  {
   "cell_type": "code",
   "execution_count": 26,
   "id": "d4a2ef77",
   "metadata": {
    "execution": {
     "iopub.execute_input": "2023-02-10T23:10:37.271259Z",
     "iopub.status.busy": "2023-02-10T23:10:37.270768Z",
     "iopub.status.idle": "2023-02-10T23:10:37.276882Z",
     "shell.execute_reply": "2023-02-10T23:10:37.275619Z"
    },
    "papermill": {
     "duration": 0.070972,
     "end_time": "2023-02-10T23:10:37.279356",
     "exception": false,
     "start_time": "2023-02-10T23:10:37.208384",
     "status": "completed"
    },
    "tags": []
   },
   "outputs": [],
   "source": [
    "y_train = np.asarray(train_labels).astype('float32')\n",
    "y_test = np.asarray(test_labels).astype('float32')"
   ]
  },
  {
   "cell_type": "code",
   "execution_count": 27,
   "id": "24f8ebf2",
   "metadata": {
    "execution": {
     "iopub.execute_input": "2023-02-10T23:10:37.400108Z",
     "iopub.status.busy": "2023-02-10T23:10:37.398982Z",
     "iopub.status.idle": "2023-02-10T23:10:37.407097Z",
     "shell.execute_reply": "2023-02-10T23:10:37.405786Z"
    },
    "papermill": {
     "duration": 0.07086,
     "end_time": "2023-02-10T23:10:37.409481",
     "exception": false,
     "start_time": "2023-02-10T23:10:37.338621",
     "status": "completed"
    },
    "tags": []
   },
   "outputs": [
    {
     "data": {
      "text/plain": [
       "(10000,)"
      ]
     },
     "execution_count": 27,
     "metadata": {},
     "output_type": "execute_result"
    }
   ],
   "source": [
    "x_train[0].shape"
   ]
  },
  {
   "cell_type": "code",
   "execution_count": 28,
   "id": "dc01b101",
   "metadata": {
    "execution": {
     "iopub.execute_input": "2023-02-10T23:10:37.529951Z",
     "iopub.status.busy": "2023-02-10T23:10:37.529526Z",
     "iopub.status.idle": "2023-02-10T23:10:37.567421Z",
     "shell.execute_reply": "2023-02-10T23:10:37.566113Z"
    },
    "papermill": {
     "duration": 0.100642,
     "end_time": "2023-02-10T23:10:37.570251",
     "exception": false,
     "start_time": "2023-02-10T23:10:37.469609",
     "status": "completed"
    },
    "tags": []
   },
   "outputs": [],
   "source": [
    "model = models.Sequential()\n",
    "model.add(layers.Dense(16, activation = 'relu', input_shape=(10000,)))\n",
    "model.add(layers.Dense(16, activation='relu'))\n",
    "model.add(layers.Dense(1, activation='sigmoid'))"
   ]
  },
  {
   "cell_type": "code",
   "execution_count": 29,
   "id": "7c520c6a",
   "metadata": {
    "execution": {
     "iopub.execute_input": "2023-02-10T23:10:37.688941Z",
     "iopub.status.busy": "2023-02-10T23:10:37.688535Z",
     "iopub.status.idle": "2023-02-10T23:10:37.700093Z",
     "shell.execute_reply": "2023-02-10T23:10:37.698503Z"
    },
    "papermill": {
     "duration": 0.074463,
     "end_time": "2023-02-10T23:10:37.702740",
     "exception": false,
     "start_time": "2023-02-10T23:10:37.628277",
     "status": "completed"
    },
    "tags": []
   },
   "outputs": [],
   "source": [
    "model.compile(optimizer='rmsprop',  loss='binary_crossentropy', metrics=['accuracy'])"
   ]
  },
  {
   "cell_type": "code",
   "execution_count": 30,
   "id": "5a01cc84",
   "metadata": {
    "execution": {
     "iopub.execute_input": "2023-02-10T23:10:37.911214Z",
     "iopub.status.busy": "2023-02-10T23:10:37.910661Z",
     "iopub.status.idle": "2023-02-10T23:10:37.918520Z",
     "shell.execute_reply": "2023-02-10T23:10:37.917330Z"
    },
    "papermill": {
     "duration": 0.07247,
     "end_time": "2023-02-10T23:10:37.920886",
     "exception": false,
     "start_time": "2023-02-10T23:10:37.848416",
     "status": "completed"
    },
    "tags": []
   },
   "outputs": [
    {
     "data": {
      "text/plain": [
       "25000"
      ]
     },
     "execution_count": 30,
     "metadata": {},
     "output_type": "execute_result"
    }
   ],
   "source": [
    "len(x_train)"
   ]
  },
  {
   "cell_type": "code",
   "execution_count": 31,
   "id": "b0b6ccbc",
   "metadata": {
    "execution": {
     "iopub.execute_input": "2023-02-10T23:10:38.044646Z",
     "iopub.status.busy": "2023-02-10T23:10:38.043702Z",
     "iopub.status.idle": "2023-02-10T23:10:38.051209Z",
     "shell.execute_reply": "2023-02-10T23:10:38.049345Z"
    },
    "papermill": {
     "duration": 0.070447,
     "end_time": "2023-02-10T23:10:38.053923",
     "exception": false,
     "start_time": "2023-02-10T23:10:37.983476",
     "status": "completed"
    },
    "tags": []
   },
   "outputs": [
    {
     "name": "stdout",
     "output_type": "stream",
     "text": [
      "10000\n"
     ]
    }
   ],
   "source": [
    "print(len(x_train[:10000]) )"
   ]
  },
  {
   "cell_type": "code",
   "execution_count": 32,
   "id": "c24db599",
   "metadata": {
    "execution": {
     "iopub.execute_input": "2023-02-10T23:10:38.175576Z",
     "iopub.status.busy": "2023-02-10T23:10:38.175109Z",
     "iopub.status.idle": "2023-02-10T23:10:38.181580Z",
     "shell.execute_reply": "2023-02-10T23:10:38.180554Z"
    },
    "papermill": {
     "duration": 0.069793,
     "end_time": "2023-02-10T23:10:38.183953",
     "exception": false,
     "start_time": "2023-02-10T23:10:38.114160",
     "status": "completed"
    },
    "tags": []
   },
   "outputs": [
    {
     "name": "stdout",
     "output_type": "stream",
     "text": [
      "10000\n"
     ]
    }
   ],
   "source": [
    "print(len(train_labels[:10000]) )"
   ]
  },
  {
   "cell_type": "markdown",
   "id": "b85f6cb6",
   "metadata": {
    "papermill": {
     "duration": 0.059437,
     "end_time": "2023-02-10T23:10:38.304243",
     "exception": false,
     "start_time": "2023-02-10T23:10:38.244806",
     "status": "completed"
    },
    "tags": []
   },
   "source": [
    "> **Slicing the tensors now**"
   ]
  },
  {
   "cell_type": "code",
   "execution_count": 33,
   "id": "f5e8af1a",
   "metadata": {
    "execution": {
     "iopub.execute_input": "2023-02-10T23:10:38.427187Z",
     "iopub.status.busy": "2023-02-10T23:10:38.426163Z",
     "iopub.status.idle": "2023-02-10T23:10:38.435753Z",
     "shell.execute_reply": "2023-02-10T23:10:38.433738Z"
    },
    "papermill": {
     "duration": 0.074545,
     "end_time": "2023-02-10T23:10:38.438973",
     "exception": false,
     "start_time": "2023-02-10T23:10:38.364428",
     "status": "completed"
    },
    "tags": []
   },
   "outputs": [
    {
     "name": "stdout",
     "output_type": "stream",
     "text": [
      "x_val: 10000y_val: 10000 x_partial: 15000 y_partial: 15000\n"
     ]
    }
   ],
   "source": [
    "x_val = x_train[:10000]\n",
    "x_partial =x_train[10000:]\n",
    "y_val = y_train[:10000]\n",
    "y_partial= y_train[10000:]\n",
    "print('x_val: ' + str(len(x_val)) + 'y_val: ' + str(len(y_val))  + ' x_partial: ' + str(len(x_partial)) + ' y_partial: ' + str(len(y_partial))) "
   ]
  },
  {
   "cell_type": "code",
   "execution_count": 34,
   "id": "2a3739e8",
   "metadata": {
    "execution": {
     "iopub.execute_input": "2023-02-10T23:10:38.561561Z",
     "iopub.status.busy": "2023-02-10T23:10:38.559787Z",
     "iopub.status.idle": "2023-02-10T23:11:36.766074Z",
     "shell.execute_reply": "2023-02-10T23:11:36.764107Z"
    },
    "papermill": {
     "duration": 58.270342,
     "end_time": "2023-02-10T23:11:36.769636",
     "exception": false,
     "start_time": "2023-02-10T23:10:38.499294",
     "status": "completed"
    },
    "tags": []
   },
   "outputs": [
    {
     "name": "stdout",
     "output_type": "stream",
     "text": [
      "Epoch 1/20\n",
      "469/469 [==============================] - 4s 8ms/step - loss: 0.3453 - accuracy: 0.8570 - val_loss: 0.2735 - val_accuracy: 0.8919\n",
      "Epoch 2/20\n",
      "469/469 [==============================] - 3s 7ms/step - loss: 0.2044 - accuracy: 0.9223 - val_loss: 0.2875 - val_accuracy: 0.8878\n",
      "Epoch 3/20\n",
      "469/469 [==============================] - 3s 6ms/step - loss: 0.1586 - accuracy: 0.9415 - val_loss: 0.3259 - val_accuracy: 0.8819\n",
      "Epoch 4/20\n",
      "469/469 [==============================] - 3s 6ms/step - loss: 0.1296 - accuracy: 0.9530 - val_loss: 0.3536 - val_accuracy: 0.8814\n",
      "Epoch 5/20\n",
      "469/469 [==============================] - 3s 6ms/step - loss: 0.1074 - accuracy: 0.9621 - val_loss: 0.3835 - val_accuracy: 0.8795\n",
      "Epoch 6/20\n",
      "469/469 [==============================] - 3s 6ms/step - loss: 0.0861 - accuracy: 0.9687 - val_loss: 0.4360 - val_accuracy: 0.8776\n",
      "Epoch 7/20\n",
      "469/469 [==============================] - 3s 6ms/step - loss: 0.0716 - accuracy: 0.9739 - val_loss: 0.4928 - val_accuracy: 0.8739\n",
      "Epoch 8/20\n",
      "469/469 [==============================] - 3s 6ms/step - loss: 0.0577 - accuracy: 0.9794 - val_loss: 0.5595 - val_accuracy: 0.8725\n",
      "Epoch 9/20\n",
      "469/469 [==============================] - 3s 6ms/step - loss: 0.0445 - accuracy: 0.9847 - val_loss: 0.6756 - val_accuracy: 0.8657\n",
      "Epoch 10/20\n",
      "469/469 [==============================] - 3s 6ms/step - loss: 0.0360 - accuracy: 0.9889 - val_loss: 0.7418 - val_accuracy: 0.8696\n",
      "Epoch 11/20\n",
      "469/469 [==============================] - 3s 6ms/step - loss: 0.0281 - accuracy: 0.9911 - val_loss: 0.8315 - val_accuracy: 0.8674\n",
      "Epoch 12/20\n",
      "469/469 [==============================] - 3s 6ms/step - loss: 0.0214 - accuracy: 0.9935 - val_loss: 0.9523 - val_accuracy: 0.8639\n",
      "Epoch 13/20\n",
      "469/469 [==============================] - 3s 7ms/step - loss: 0.0152 - accuracy: 0.9953 - val_loss: 1.0892 - val_accuracy: 0.8662\n",
      "Epoch 14/20\n",
      "469/469 [==============================] - 3s 6ms/step - loss: 0.0120 - accuracy: 0.9963 - val_loss: 1.2387 - val_accuracy: 0.8644\n",
      "Epoch 15/20\n",
      "469/469 [==============================] - 3s 6ms/step - loss: 0.0090 - accuracy: 0.9975 - val_loss: 1.3963 - val_accuracy: 0.8642\n",
      "Epoch 16/20\n",
      "469/469 [==============================] - 3s 6ms/step - loss: 0.0056 - accuracy: 0.9986 - val_loss: 1.6038 - val_accuracy: 0.8627\n",
      "Epoch 17/20\n",
      "469/469 [==============================] - 3s 6ms/step - loss: 0.0035 - accuracy: 0.9991 - val_loss: 1.8676 - val_accuracy: 0.8592\n",
      "Epoch 18/20\n",
      "469/469 [==============================] - 3s 6ms/step - loss: 0.0022 - accuracy: 0.9992 - val_loss: 2.0853 - val_accuracy: 0.8628\n",
      "Epoch 19/20\n",
      "469/469 [==============================] - 3s 6ms/step - loss: 0.0019 - accuracy: 0.9994 - val_loss: 2.2717 - val_accuracy: 0.8625\n",
      "Epoch 20/20\n",
      "469/469 [==============================] - 3s 6ms/step - loss: 9.8056e-04 - accuracy: 0.9997 - val_loss: 2.4691 - val_accuracy: 0.8629\n"
     ]
    }
   ],
   "source": [
    "history = model.fit(x=x_partial,y=y_partial,epochs=20,validation_data=(x_val, y_val))"
   ]
  },
  {
   "cell_type": "markdown",
   "id": "6dcd28cc",
   "metadata": {
    "papermill": {
     "duration": 0.123035,
     "end_time": "2023-02-10T23:11:37.011549",
     "exception": false,
     "start_time": "2023-02-10T23:11:36.888514",
     "status": "completed"
    },
    "tags": []
   },
   "source": [
    "> **Note that the call to model.fit() returns a History object. This object has a member history, which is a dictionary containing data about everything that happened\n",
    "> during training. Let’s look at it:**"
   ]
  },
  {
   "cell_type": "code",
   "execution_count": 35,
   "id": "2f6c8a3a",
   "metadata": {
    "execution": {
     "iopub.execute_input": "2023-02-10T23:11:37.246888Z",
     "iopub.status.busy": "2023-02-10T23:11:37.245122Z",
     "iopub.status.idle": "2023-02-10T23:11:37.254428Z",
     "shell.execute_reply": "2023-02-10T23:11:37.253284Z"
    },
    "papermill": {
     "duration": 0.13011,
     "end_time": "2023-02-10T23:11:37.257138",
     "exception": false,
     "start_time": "2023-02-10T23:11:37.127028",
     "status": "completed"
    },
    "tags": []
   },
   "outputs": [
    {
     "data": {
      "text/plain": [
       "dict_keys(['loss', 'accuracy', 'val_loss', 'val_accuracy'])"
      ]
     },
     "execution_count": 35,
     "metadata": {},
     "output_type": "execute_result"
    }
   ],
   "source": [
    "history_dict = history.history\n",
    "history_dict.keys()\n"
   ]
  },
  {
   "cell_type": "code",
   "execution_count": 36,
   "id": "b97c217c",
   "metadata": {
    "execution": {
     "iopub.execute_input": "2023-02-10T23:11:37.505334Z",
     "iopub.status.busy": "2023-02-10T23:11:37.504205Z",
     "iopub.status.idle": "2023-02-10T23:11:37.512678Z",
     "shell.execute_reply": "2023-02-10T23:11:37.510999Z"
    },
    "papermill": {
     "duration": 0.139113,
     "end_time": "2023-02-10T23:11:37.516042",
     "exception": false,
     "start_time": "2023-02-10T23:11:37.376929",
     "status": "completed"
    },
    "tags": []
   },
   "outputs": [],
   "source": [
    "loss_values= history_dict['loss']\n",
    "val_loss_values = history_dict['val_loss']\n",
    "acc_values= history_dict['accuracy']\n",
    "val_acc_values = history_dict['val_accuracy']\n",
    "epochs = range(1,len(loss_values)+1)"
   ]
  },
  {
   "cell_type": "code",
   "execution_count": 37,
   "id": "bd4af143",
   "metadata": {
    "execution": {
     "iopub.execute_input": "2023-02-10T23:11:37.760383Z",
     "iopub.status.busy": "2023-02-10T23:11:37.759494Z",
     "iopub.status.idle": "2023-02-10T23:11:38.021766Z",
     "shell.execute_reply": "2023-02-10T23:11:38.020698Z"
    },
    "papermill": {
     "duration": 0.387534,
     "end_time": "2023-02-10T23:11:38.024409",
     "exception": false,
     "start_time": "2023-02-10T23:11:37.636875",
     "status": "completed"
    },
    "tags": []
   },
   "outputs": [
    {
     "data": {
      "image/png": "[encoded data removed]",
      "text/plain": [
       "<Figure size 432x288 with 1 Axes>"
      ]
     },
     "metadata": {
      "needs_background": "light"
     },
     "output_type": "display_data"
    }
   ],
   "source": [
    "plt.plot(epochs,loss_values, label='Training Loss')\n",
    "plt.scatter(epochs, val_loss_values, label='Validation Loss')\n",
    "plt.title('Training and validation loss')\n",
    "plt.xlabel('Epochs')\n",
    "plt.ylabel('Loss')\n",
    "plt.legend()\n",
    "\n",
    "plt.show()"
   ]
  },
  {
   "cell_type": "code",
   "execution_count": 38,
   "id": "998216f9",
   "metadata": {
    "execution": {
     "iopub.execute_input": "2023-02-10T23:11:38.254677Z",
     "iopub.status.busy": "2023-02-10T23:11:38.253970Z",
     "iopub.status.idle": "2023-02-10T23:11:38.518827Z",
     "shell.execute_reply": "2023-02-10T23:11:38.517962Z"
    },
    "papermill": {
     "duration": 0.384241,
     "end_time": "2023-02-10T23:11:38.521280",
     "exception": false,
     "start_time": "2023-02-10T23:11:38.137039",
     "status": "completed"
    },
    "tags": []
   },
   "outputs": [
    {
     "data": {
      "image/png": "[encoded data removed]",
      "text/plain": [
       "<Figure size 432x288 with 1 Axes>"
      ]
     },
     "metadata": {
      "needs_background": "light"
     },
     "output_type": "display_data"
    }
   ],
   "source": [
    "plt.plot(epochs,acc_values, label='Training Accuracy')\n",
    "plt.scatter(epochs, val_acc_values, label='Validation Accuracy')\n",
    "plt.title('Training and validation accuracy')\n",
    "plt.xlabel('Epochs')\n",
    "plt.ylabel('Accuracy')\n",
    "plt.legend()\n",
    "\n",
    "plt.show()"
   ]
  },
  {
   "cell_type": "code",
   "execution_count": 39,
   "id": "abfb3195",
   "metadata": {
    "execution": {
     "iopub.execute_input": "2023-02-10T23:11:38.754152Z",
     "iopub.status.busy": "2023-02-10T23:11:38.753494Z",
     "iopub.status.idle": "2023-02-10T23:11:38.797360Z",
     "shell.execute_reply": "2023-02-10T23:11:38.796091Z"
    },
    "papermill": {
     "duration": 0.162456,
     "end_time": "2023-02-10T23:11:38.800417",
     "exception": false,
     "start_time": "2023-02-10T23:11:38.637961",
     "status": "completed"
    },
    "tags": []
   },
   "outputs": [],
   "source": [
    "model = models.Sequential()\n",
    "model.add(layers.Dense(16, activation='relu', input_shape=(10000,)))\n",
    "model.add(layers.Dense(16, activation='relu'))\n",
    "model.add(layers.Dense(1, activation='sigmoid'))\n",
    "model.compile(optimizer='rmsprop',\n",
    "loss='binary_crossentropy',\n",
    "metrics=['accuracy'])"
   ]
  },
  {
   "cell_type": "code",
   "execution_count": 40,
   "id": "62c801a2",
   "metadata": {
    "execution": {
     "iopub.execute_input": "2023-02-10T23:11:39.038192Z",
     "iopub.status.busy": "2023-02-10T23:11:39.037723Z",
     "iopub.status.idle": "2023-02-10T23:11:49.284884Z",
     "shell.execute_reply": "2023-02-10T23:11:49.283274Z"
    },
    "papermill": {
     "duration": 10.369199,
     "end_time": "2023-02-10T23:11:49.287434",
     "exception": false,
     "start_time": "2023-02-10T23:11:38.918235",
     "status": "completed"
    },
    "tags": []
   },
   "outputs": [
    {
     "name": "stdout",
     "output_type": "stream",
     "text": [
      "Epoch 1/4\n",
      "49/49 [==============================] - 2s 23ms/step - loss: 0.4640 - accuracy: 0.8089 - val_loss: 0.2842 - val_accuracy: 0.9136\n",
      "Epoch 2/4\n",
      "49/49 [==============================] - 1s 16ms/step - loss: 0.2595 - accuracy: 0.9113 - val_loss: 0.2123 - val_accuracy: 0.9259\n",
      "Epoch 3/4\n",
      "49/49 [==============================] - 1s 15ms/step - loss: 0.1997 - accuracy: 0.9294 - val_loss: 0.1573 - val_accuracy: 0.9523\n",
      "Epoch 4/4\n",
      "49/49 [==============================] - 1s 15ms/step - loss: 0.1668 - accuracy: 0.9407 - val_loss: 0.1403 - val_accuracy: 0.9548\n",
      "782/782 [==============================] - 3s 3ms/step - loss: 0.3161 - accuracy: 0.8761\n",
      "[0.3160858452320099, 0.8760799765586853]\n"
     ]
    }
   ],
   "source": [
    "history2 =  model.fit(x_train, y_train, epochs=4, batch_size=512, validation_data=(x_val, y_val))\n",
    "results2 = model.evaluate(x_test, y_test)\n",
    "print(results2)"
   ]
  },
  {
   "cell_type": "code",
   "execution_count": 41,
   "id": "a8026ecd",
   "metadata": {
    "execution": {
     "iopub.execute_input": "2023-02-10T23:11:49.536651Z",
     "iopub.status.busy": "2023-02-10T23:11:49.536141Z",
     "iopub.status.idle": "2023-02-10T23:11:49.543683Z",
     "shell.execute_reply": "2023-02-10T23:11:49.542390Z"
    },
    "papermill": {
     "duration": 0.135893,
     "end_time": "2023-02-10T23:11:49.546093",
     "exception": false,
     "start_time": "2023-02-10T23:11:49.410200",
     "status": "completed"
    },
    "tags": []
   },
   "outputs": [
    {
     "data": {
      "text/plain": [
       "dict_keys(['loss', 'accuracy', 'val_loss', 'val_accuracy'])"
      ]
     },
     "execution_count": 41,
     "metadata": {},
     "output_type": "execute_result"
    }
   ],
   "source": [
    "history2_dict = history2.history\n",
    "history2_dict.keys()"
   ]
  },
  {
   "cell_type": "code",
   "execution_count": 42,
   "id": "a1edca4e",
   "metadata": {
    "execution": {
     "iopub.execute_input": "2023-02-10T23:11:49.787935Z",
     "iopub.status.busy": "2023-02-10T23:11:49.787465Z",
     "iopub.status.idle": "2023-02-10T23:11:50.297839Z",
     "shell.execute_reply": "2023-02-10T23:11:50.296842Z"
    },
    "papermill": {
     "duration": 0.634008,
     "end_time": "2023-02-10T23:11:50.300663",
     "exception": false,
     "start_time": "2023-02-10T23:11:49.666655",
     "status": "completed"
    },
    "tags": []
   },
   "outputs": [
    {
     "data": {
      "image/png": "[encoded data removed]",
      "text/plain": [
       "<Figure size 432x288 with 1 Axes>"
      ]
     },
     "metadata": {
      "needs_background": "light"
     },
     "output_type": "display_data"
    },
    {
     "data": {
      "image/png": "[encoded data removed]",
      "text/plain": [
       "<Figure size 432x288 with 1 Axes>"
      ]
     },
     "metadata": {
      "needs_background": "light"
     },
     "output_type": "display_data"
    }
   ],
   "source": [
    "loss_values2= history2_dict['loss']\n",
    "val_loss_values2 = history2_dict['val_loss']\n",
    "acc_values2= history2_dict['accuracy']\n",
    "val_acc_values2 = history2_dict['val_accuracy']\n",
    "epochs2 = range(1,len(loss_values2)+1)\n",
    "\n",
    "plt.plot(epochs2,loss_values2, label='Training Loss')\n",
    "plt.scatter(epochs2, val_loss_values2, label='Validation Loss')\n",
    "plt.title('Training and validation loss')\n",
    "plt.xlabel('Epochs')\n",
    "plt.ylabel('Loss')\n",
    "plt.legend()\n",
    "plt.show()\n",
    "\n",
    "plt.plot(epochs2,acc_values2, label='Training Accuracy')\n",
    "plt.scatter(epochs2, val_acc_values2, label='Validation Accuracy')\n",
    "plt.title('Training and validation accuracy')\n",
    "plt.xlabel('Epochs')\n",
    "plt.ylabel('Accuracy')\n",
    "plt.legend()\n",
    "\n",
    "plt.show()"
   ]
  },
  {
   "cell_type": "code",
   "execution_count": 43,
   "id": "c26316f3",
   "metadata": {
    "execution": {
     "iopub.execute_input": "2023-02-10T23:11:50.548818Z",
     "iopub.status.busy": "2023-02-10T23:11:50.547445Z",
     "iopub.status.idle": "2023-02-10T23:11:50.554657Z",
     "shell.execute_reply": "2023-02-10T23:11:50.553457Z"
    },
    "papermill": {
     "duration": 0.133567,
     "end_time": "2023-02-10T23:11:50.557005",
     "exception": false,
     "start_time": "2023-02-10T23:11:50.423438",
     "status": "completed"
    },
    "tags": []
   },
   "outputs": [
    {
     "name": "stdout",
     "output_type": "stream",
     "text": [
      "['_TF_MODULE_IGNORED_PROPERTIES', '__call__', '__class__', '__delattr__', '__dict__', '__dir__', '__doc__', '__eq__', '__format__', '__ge__', '__getattribute__', '__getstate__', '__gt__', '__hash__', '__init__', '__init_subclass__', '__le__', '__lt__', '__module__', '__ne__', '__new__', '__reduce__', '__reduce_ex__', '__repr__', '__setattr__', '__setstate__', '__sizeof__', '__str__', '__subclasshook__', '__weakref__', '_activity_regularizer', '_add_trackable', '_add_variable_with_custom_getter', '_assert_compile_was_called', '_assert_weights_created', '_auto_track_sub_layers', '_autocast', '_autographed_call', '_base_model_initialized', '_build_graph_network_for_inferred_shape', '_build_input_shape', '_call_accepts_kwargs', '_call_arg_was_passed', '_call_fn_arg_defaults', '_call_fn_arg_positions', '_call_fn_args', '_call_full_argspec', '_callable_losses', '_cast_single_input', '_check_call_args', '_checkpoint_dependencies', '_clear_losses', '_cluster_coordinator', '_compile_was_called', '_compiled_trainable_state', '_compute_dtype', '_compute_dtype_object', '_compute_output_and_mask_jointly', '_compute_tensor_usage_count', '_configure_steps_per_execution', '_conform_to_reference_input', '_created_nodes', '_dedup_weights', '_default_training_arg', '_deferred_dependencies', '_delete_tracking', '_distribution_strategy', '_dtype', '_dtype_policy', '_dynamic', '_eager_losses', '_enable_dict_to_input_mapping', '_expects_mask_arg', '_expects_training_arg', '_feed_input_names', '_feed_input_shapes', '_feed_inputs', '_flatten', '_flatten_layers', '_flatten_modules', '_flatten_to_reference_inputs', '_functional_construction_call', '_gather_children_attribute', '_gather_saveables_for_checkpoint', '_get_call_arg_value', '_get_callback_model', '_get_cell_name', '_get_compile_args', '_get_existing_metric', '_get_input_masks', '_get_node_attribute_at_index', '_get_optimizer', '_get_save_spec', '_get_trainable_state', '_graph_initialized', '_graph_network_add_loss', '_graph_network_add_metric', '_handle_activity_regularization', '_handle_deferred_dependencies', '_handle_deferred_layer_dependencies', '_handle_weight_regularization', '_has_explicit_input_shape', '_in_multi_worker_mode', '_inbound_nodes', '_inbound_nodes_value', '_infer_output_signature', '_inferred_input_shape', '_init_batch_counters', '_init_call_fn_args', '_init_graph_network', '_init_set_name', '_initial_weights', '_input_coordinates', '_input_dtype', '_input_layers', '_input_spec', '_insert_layers', '_instrument_layer_creation', '_instrumented_keras_api', '_instrumented_keras_layer_class', '_instrumented_keras_model_class', '_is_compiled', '_is_graph_network', '_is_layer', '_is_layer_name_unique', '_is_model_for_instrumentation', '_keras_api_names', '_keras_api_names_v1', '_keras_tensor_symbolic_call', '_layer_call_argspecs', '_layer_checkpoint_dependencies', '_list_extra_dependencies_for_serialization', '_list_functions_for_serialization', '_lookup_dependency', '_losses', '_map_resources', '_maybe_build', '_maybe_cast_inputs', '_maybe_create_attribute', '_maybe_initialize_trackable', '_maybe_load_initial_epoch_from_ckpt', '_metrics', '_metrics_lock', '_must_restore_from_config', '_name', '_name_based_attribute_restore', '_name_based_restores', '_name_scope', '_nested_inputs', '_nested_outputs', '_network_nodes', '_no_dependency', '_nodes_by_depth', '_non_trainable_weights', '_obj_reference_counts', '_obj_reference_counts_dict', '_object_identifier', '_outbound_nodes', '_outbound_nodes_value', '_outer_name_scope', '_output_coordinates', '_output_layers', '_output_mask_cache', '_output_shape_cache', '_output_tensor_cache', '_predict_counter', '_preload_simple_restoration', '_preserve_input_structure_in_config', '_reset_compile_cache', '_restore_from_checkpoint_position', '_run_eagerly', '_run_internal_graph', '_saved_model_arg_spec', '_saved_model_inputs_spec', '_self_name_based_restores', '_self_saveable_object_factories', '_self_setattr_tracking', '_self_tracked_trackables', '_self_unconditional_checkpoint_dependencies', '_self_unconditional_deferred_dependencies', '_self_unconditional_dependency_names', '_self_update_uid', '_set_call_arg_value', '_set_connectivity_metadata', '_set_dtype_policy', '_set_inputs', '_set_mask_keras_history_checked', '_set_mask_metadata', '_set_output_names', '_set_save_spec', '_set_trainable_state', '_set_training_mode', '_setattr_tracking', '_should_cast_single_input', '_should_compute_mask', '_should_eval', '_single_restoration_from_checkpoint_position', '_split_out_first_arg', '_stateful', '_steps_per_execution', '_supports_masking', '_symbolic_call', '_tensor_usage_count', '_test_counter', '_tf_api_names', '_tf_api_names_v1', '_thread_local', '_track_trackable', '_trackable_saved_model_saver', '_trackable_saver', '_tracking_metadata', '_train_counter', '_trainable', '_trainable_weights', '_training_state', '_unconditional_checkpoint_dependencies', '_unconditional_dependency_names', '_undeduplicated_weights', '_update_uid', '_updated_config', '_updates', '_use_input_spec_as_call_signature', '_use_legacy_deferred_behavior', '_validate_compile', '_validate_graph_inputs_and_outputs', 'activity_regularizer', 'add', 'add_loss', 'add_metric', 'add_update', 'add_variable', 'add_weight', 'apply', 'build', 'built', 'call', 'compile', 'compiled_loss', 'compiled_metrics', 'compute_dtype', 'compute_mask', 'compute_output_shape', 'compute_output_signature', 'count_params', 'distribute_strategy', 'dtype', 'dtype_policy', 'dynamic', 'evaluate', 'evaluate_generator', 'finalize_state', 'fit', 'fit_generator', 'from_config', 'get_config', 'get_input_at', 'get_input_mask_at', 'get_input_shape_at', 'get_layer', 'get_losses_for', 'get_output_at', 'get_output_mask_at', 'get_output_shape_at', 'get_updates_for', 'get_weights', 'history', 'inbound_nodes', 'input', 'input_mask', 'input_names', 'input_shape', 'input_spec', 'inputs', 'layers', 'load_weights', 'loss', 'losses', 'make_predict_function', 'make_test_function', 'make_train_function', 'metrics', 'metrics_names', 'name', 'name_scope', 'non_trainable_variables', 'non_trainable_weights', 'optimizer', 'outbound_nodes', 'output', 'output_mask', 'output_names', 'output_shape', 'outputs', 'pop', 'predict', 'predict_function', 'predict_generator', 'predict_on_batch', 'predict_step', 'reset_metrics', 'reset_states', 'run_eagerly', 'save', 'save_spec', 'save_weights', 'set_weights', 'state_updates', 'stateful', 'stop_training', 'submodules', 'summary', 'supports_masking', 'test_function', 'test_on_batch', 'test_step', 'to_json', 'to_yaml', 'train_function', 'train_on_batch', 'train_step', 'train_tf_function', 'trainable', 'trainable_variables', 'trainable_weights', 'updates', 'variable_dtype', 'variables', 'weights', 'with_name_scope']\n"
     ]
    }
   ],
   "source": [
    "print(dir(model))"
   ]
  },
  {
   "cell_type": "markdown",
   "id": "3374e494",
   "metadata": {
    "papermill": {
     "duration": 0.121843,
     "end_time": "2023-02-10T23:11:50.857563",
     "exception": false,
     "start_time": "2023-02-10T23:11:50.735720",
     "status": "completed"
    },
    "tags": []
   },
   "source": [
    "> **Reduce the layers and retrain.**"
   ]
  },
  {
   "cell_type": "code",
   "execution_count": 44,
   "id": "e0ef7788",
   "metadata": {
    "execution": {
     "iopub.execute_input": "2023-02-10T23:11:51.104093Z",
     "iopub.status.busy": "2023-02-10T23:11:51.103237Z",
     "iopub.status.idle": "2023-02-10T23:12:00.394699Z",
     "shell.execute_reply": "2023-02-10T23:12:00.393417Z"
    },
    "papermill": {
     "duration": 9.420379,
     "end_time": "2023-02-10T23:12:00.397781",
     "exception": false,
     "start_time": "2023-02-10T23:11:50.977402",
     "status": "completed"
    },
    "tags": []
   },
   "outputs": [
    {
     "name": "stdout",
     "output_type": "stream",
     "text": [
      "Epoch 1/4\n",
      "49/49 [==============================] - 2s 23ms/step - loss: 0.4501 - accuracy: 0.8234 - val_loss: 0.3031 - val_accuracy: 0.9105\n",
      "Epoch 2/4\n",
      "49/49 [==============================] - 1s 15ms/step - loss: 0.2750 - accuracy: 0.9098 - val_loss: 0.2230 - val_accuracy: 0.9296\n",
      "Epoch 3/4\n",
      "49/49 [==============================] - 1s 14ms/step - loss: 0.2188 - accuracy: 0.9253 - val_loss: 0.1907 - val_accuracy: 0.9375\n",
      "Epoch 4/4\n",
      "49/49 [==============================] - 1s 14ms/step - loss: 0.1850 - accuracy: 0.9364 - val_loss: 0.1572 - val_accuracy: 0.9522\n",
      "782/782 [==============================] - 1s 2ms/step - loss: 0.2824 - accuracy: 0.8863\n",
      "[0.2824022173881531, 0.8863199949264526]\n"
     ]
    }
   ],
   "source": [
    "model = models.Sequential()\n",
    "model.add(layers.Dense(16, activation='relu', input_shape=(10000,)))\n",
    "model.add(layers.Dense(1, activation='sigmoid'))\n",
    "model.compile(optimizer='rmsprop',\n",
    "loss='binary_crossentropy',\n",
    "metrics=['accuracy'])\n",
    "history3 = model.fit(x_train, y_train, epochs=4, batch_size=512 ,validation_data=(x_val, y_val))\n",
    "results3 = model.evaluate(x_test, y_test)\n",
    "print(results3)"
   ]
  },
  {
   "cell_type": "code",
   "execution_count": 45,
   "id": "7492c6be",
   "metadata": {
    "execution": {
     "iopub.execute_input": "2023-02-10T23:12:00.669607Z",
     "iopub.status.busy": "2023-02-10T23:12:00.668725Z",
     "iopub.status.idle": "2023-02-10T23:12:01.216292Z",
     "shell.execute_reply": "2023-02-10T23:12:01.214692Z"
    },
    "papermill": {
     "duration": 0.682887,
     "end_time": "2023-02-10T23:12:01.219726",
     "exception": false,
     "start_time": "2023-02-10T23:12:00.536839",
     "status": "completed"
    },
    "tags": []
   },
   "outputs": [
    {
     "data": {
      "image/png": "[encoded data removed]",
      "text/plain": [
       "<Figure size 432x288 with 1 Axes>"
      ]
     },
     "metadata": {
      "needs_background": "light"
     },
     "output_type": "display_data"
    },
    {
     "data": {
      "image/png": "[encoded data removed]",
      "text/plain": [
       "<Figure size 432x288 with 1 Axes>"
      ]
     },
     "metadata": {
      "needs_background": "light"
     },
     "output_type": "display_data"
    }
   ],
   "source": [
    "history3_dict = history3.history\n",
    "history3_dict.keys()\n",
    "loss_values3= history3_dict['loss']\n",
    "val_loss_values3= history3_dict['val_loss']\n",
    "acc_values3= history3_dict['accuracy']\n",
    "val_acc_values3 = history3_dict['val_accuracy']\n",
    "epochs3 = range(1,len(loss_values3)+1)\n",
    "\n",
    "plt.plot(epochs3,loss_values3, label='Training Loss')\n",
    "plt.scatter(epochs3, val_loss_values3, label='Validation Loss')\n",
    "plt.title('Training and validation loss')\n",
    "plt.xlabel('Epochs')\n",
    "plt.ylabel('Loss')\n",
    "plt.legend()\n",
    "plt.show()\n",
    "\n",
    "plt.plot(epochs3,acc_values3, label='Training Accuracy')\n",
    "plt.scatter(epochs3, val_acc_values3, label='Validation Accuracy')\n",
    "plt.title('Training and validation accuracy')\n",
    "plt.xlabel('Epochs')\n",
    "plt.ylabel('Accuracy')\n",
    "plt.legend()\n",
    "\n",
    "plt.show()"
   ]
  },
  {
   "cell_type": "markdown",
   "id": "dee92ff5",
   "metadata": {
    "papermill": {
     "duration": 0.13176,
     "end_time": "2023-02-10T23:12:01.488079",
     "exception": false,
     "start_time": "2023-02-10T23:12:01.356319",
     "status": "completed"
    },
    "tags": []
   },
   "source": [
    "> **Increase the layers**"
   ]
  },
  {
   "cell_type": "code",
   "execution_count": 46,
   "id": "ad012521",
   "metadata": {
    "execution": {
     "iopub.execute_input": "2023-02-10T23:12:01.747394Z",
     "iopub.status.busy": "2023-02-10T23:12:01.746450Z",
     "iopub.status.idle": "2023-02-10T23:12:21.874031Z",
     "shell.execute_reply": "2023-02-10T23:12:21.873001Z"
    },
    "papermill": {
     "duration": 20.263006,
     "end_time": "2023-02-10T23:12:21.877533",
     "exception": false,
     "start_time": "2023-02-10T23:12:01.614527",
     "status": "completed"
    },
    "tags": []
   },
   "outputs": [
    {
     "name": "stdout",
     "output_type": "stream",
     "text": [
      "Epoch 1/10\n",
      "49/49 [==============================] - 3s 39ms/step - loss: 0.4152 - accuracy: 0.8134 - val_loss: 0.2331 - val_accuracy: 0.9179\n",
      "Epoch 2/10\n",
      "49/49 [==============================] - 1s 29ms/step - loss: 0.2380 - accuracy: 0.9093 - val_loss: 0.1587 - val_accuracy: 0.9470\n",
      "Epoch 3/10\n",
      "49/49 [==============================] - 2s 31ms/step - loss: 0.1869 - accuracy: 0.9312 - val_loss: 0.1316 - val_accuracy: 0.9579\n",
      "Epoch 4/10\n",
      "49/49 [==============================] - 1s 29ms/step - loss: 0.1547 - accuracy: 0.9426 - val_loss: 0.1181 - val_accuracy: 0.9616\n",
      "Epoch 5/10\n",
      "49/49 [==============================] - 1s 29ms/step - loss: 0.1216 - accuracy: 0.9570 - val_loss: 0.0921 - val_accuracy: 0.9692\n",
      "Epoch 6/10\n",
      "49/49 [==============================] - 1s 28ms/step - loss: 0.0980 - accuracy: 0.9656 - val_loss: 0.1961 - val_accuracy: 0.9105\n",
      "Epoch 7/10\n",
      "49/49 [==============================] - 1s 29ms/step - loss: 0.0749 - accuracy: 0.9744 - val_loss: 0.0414 - val_accuracy: 0.9901\n",
      "Epoch 8/10\n",
      "49/49 [==============================] - 1s 30ms/step - loss: 0.0555 - accuracy: 0.9828 - val_loss: 0.2243 - val_accuracy: 0.9006\n",
      "Epoch 9/10\n",
      "49/49 [==============================] - 1s 29ms/step - loss: 0.0446 - accuracy: 0.9851 - val_loss: 0.0176 - val_accuracy: 0.9972\n",
      "Epoch 10/10\n",
      "49/49 [==============================] - 1s 28ms/step - loss: 0.0292 - accuracy: 0.9918 - val_loss: 0.0129 - val_accuracy: 0.9983\n",
      "782/782 [==============================] - 3s 4ms/step - loss: 0.5736 - accuracy: 0.8584\n",
      "[0.5736438035964966, 0.8584399819374084]\n"
     ]
    }
   ],
   "source": [
    "model = models.Sequential()\n",
    "model.add(layers.Dense(64, activation='relu', input_shape=(10000,)))\n",
    "model.add(layers.Dense(32, activation='relu'))\n",
    "model.add(layers.Dense(1, activation='sigmoid'))\n",
    "model.compile(optimizer='rmsprop',\n",
    "loss='binary_crossentropy',\n",
    "metrics=['accuracy'])\n",
    "history4 = model.fit(x_train, y_train, epochs=10, batch_size=512, validation_data=(x_val, y_val))\n",
    "results4 = model.evaluate(x_test, y_test)\n",
    "print(results4)\n"
   ]
  },
  {
   "cell_type": "code",
   "execution_count": 47,
   "id": "acbb6b86",
   "metadata": {
    "execution": {
     "iopub.execute_input": "2023-02-10T23:12:22.169867Z",
     "iopub.status.busy": "2023-02-10T23:12:22.168992Z",
     "iopub.status.idle": "2023-02-10T23:12:22.670916Z",
     "shell.execute_reply": "2023-02-10T23:12:22.670036Z"
    },
    "papermill": {
     "duration": 0.650627,
     "end_time": "2023-02-10T23:12:22.673465",
     "exception": false,
     "start_time": "2023-02-10T23:12:22.022838",
     "status": "completed"
    },
    "tags": []
   },
   "outputs": [
    {
     "data": {
      "image/png": "[encoded data removed]",
      "text/plain": [
       "<Figure size 432x288 with 1 Axes>"
      ]
     },
     "metadata": {
      "needs_background": "light"
     },
     "output_type": "display_data"
    },
    {
     "data": {
      "image/png": "[encoded data removed]",
      "text/plain": [
       "<Figure size 432x288 with 1 Axes>"
      ]
     },
     "metadata": {
      "needs_background": "light"
     },
     "output_type": "display_data"
    }
   ],
   "source": [
    "history4_dict = history4.history\n",
    "history4_dict.keys()\n",
    "loss_values4= history4_dict['loss']\n",
    "val_loss_values4= history4_dict['val_loss']\n",
    "acc_values4= history4_dict['accuracy']\n",
    "val_acc_values4 = history4_dict['val_accuracy']\n",
    "epochs4 = range(1,len(loss_values4)+1)\n",
    "\n",
    "plt.plot(epochs4,loss_values4, label='Training Loss')\n",
    "plt.scatter(epochs4, val_loss_values4, label='Validation Loss')\n",
    "plt.title('Training and validation loss')\n",
    "plt.xlabel('Epochs')\n",
    "plt.ylabel('Loss')\n",
    "plt.legend()\n",
    "plt.show()\n",
    "\n",
    "plt.plot(epochs4,acc_values4, label='Training Accuracy')\n",
    "plt.scatter(epochs4, val_acc_values4, label='Validation Accuracy')\n",
    "plt.title('Training and validation accuracy')\n",
    "plt.xlabel('Epochs')\n",
    "plt.ylabel('Accuracy')\n",
    "plt.legend()\n",
    "\n",
    "plt.show()"
   ]
  },
  {
   "cell_type": "markdown",
   "id": "4df391e5",
   "metadata": {
    "papermill": {
     "duration": 0.142165,
     "end_time": "2023-02-10T23:12:22.956837",
     "exception": false,
     "start_time": "2023-02-10T23:12:22.814672",
     "status": "completed"
    },
    "tags": []
   },
   "source": [
    "> **Change the loss function**"
   ]
  },
  {
   "cell_type": "code",
   "execution_count": 48,
   "id": "82f08e0c",
   "metadata": {
    "execution": {
     "iopub.execute_input": "2023-02-10T23:12:23.251087Z",
     "iopub.status.busy": "2023-02-10T23:12:23.249989Z",
     "iopub.status.idle": "2023-02-10T23:12:41.016965Z",
     "shell.execute_reply": "2023-02-10T23:12:41.015315Z"
    },
    "papermill": {
     "duration": 17.916601,
     "end_time": "2023-02-10T23:12:41.019669",
     "exception": false,
     "start_time": "2023-02-10T23:12:23.103068",
     "status": "completed"
    },
    "tags": []
   },
   "outputs": [
    {
     "name": "stdout",
     "output_type": "stream",
     "text": [
      "Epoch 1/10\n",
      "49/49 [==============================] - 2s 35ms/step - loss: 0.1350 - accuracy: 0.8196 - val_loss: 0.0703 - val_accuracy: 0.9212\n",
      "Epoch 2/10\n",
      "49/49 [==============================] - 1s 28ms/step - loss: 0.0708 - accuracy: 0.9123 - val_loss: 0.0522 - val_accuracy: 0.9404\n",
      "Epoch 3/10\n",
      "49/49 [==============================] - 1s 27ms/step - loss: 0.0537 - accuracy: 0.9332 - val_loss: 0.0435 - val_accuracy: 0.9479\n",
      "Epoch 4/10\n",
      "49/49 [==============================] - 1s 28ms/step - loss: 0.0437 - accuracy: 0.9459 - val_loss: 0.0270 - val_accuracy: 0.9723\n",
      "Epoch 5/10\n",
      "49/49 [==============================] - 1s 27ms/step - loss: 0.0350 - accuracy: 0.9595 - val_loss: 0.0212 - val_accuracy: 0.9790\n",
      "Epoch 6/10\n",
      "49/49 [==============================] - 1s 27ms/step - loss: 0.0290 - accuracy: 0.9654 - val_loss: 0.0161 - val_accuracy: 0.9847\n",
      "Epoch 7/10\n",
      "49/49 [==============================] - 1s 27ms/step - loss: 0.0236 - accuracy: 0.9732 - val_loss: 0.0138 - val_accuracy: 0.9871\n",
      "Epoch 8/10\n",
      "49/49 [==============================] - 1s 27ms/step - loss: 0.0155 - accuracy: 0.9840 - val_loss: 0.0120 - val_accuracy: 0.9899\n",
      "Epoch 9/10\n",
      "49/49 [==============================] - 1s 27ms/step - loss: 0.0149 - accuracy: 0.9842 - val_loss: 0.0079 - val_accuracy: 0.9924\n",
      "Epoch 10/10\n",
      "49/49 [==============================] - 1s 27ms/step - loss: 0.0119 - accuracy: 0.9873 - val_loss: 0.0200 - val_accuracy: 0.9779\n",
      "782/782 [==============================] - 2s 3ms/step - loss: 0.1343 - accuracy: 0.8354\n",
      "[0.13434360921382904, 0.8353599905967712]\n"
     ]
    }
   ],
   "source": [
    "model = models.Sequential()\n",
    "model.add(layers.Dense(64, activation='relu', input_shape=(10000,)))\n",
    "model.add(layers.Dense(32, activation='relu'))\n",
    "model.add(layers.Dense(1, activation='sigmoid'))\n",
    "model.compile(optimizer='rmsprop',\n",
    "loss='mse',\n",
    "metrics=['accuracy'])\n",
    "history5 = model.fit(x_train, y_train, epochs=10, batch_size=512 ,validation_data=(x_val, y_val))\n",
    "results5 = model.evaluate(x_test, y_test)\n",
    "print(results5)"
   ]
  },
  {
   "cell_type": "code",
   "execution_count": 49,
   "id": "67368437",
   "metadata": {
    "execution": {
     "iopub.execute_input": "2023-02-10T23:12:41.343216Z",
     "iopub.status.busy": "2023-02-10T23:12:41.342412Z",
     "iopub.status.idle": "2023-02-10T23:12:41.840851Z",
     "shell.execute_reply": "2023-02-10T23:12:41.839381Z"
    },
    "papermill": {
     "duration": 0.665401,
     "end_time": "2023-02-10T23:12:41.843977",
     "exception": false,
     "start_time": "2023-02-10T23:12:41.178576",
     "status": "completed"
    },
    "tags": []
   },
   "outputs": [
    {
     "data": {
      "image/png": "[encoded data removed]",
      "text/plain": [
       "<Figure size 432x288 with 1 Axes>"
      ]
     },
     "metadata": {
      "needs_background": "light"
     },
     "output_type": "display_data"
    },
    {
     "data": {
      "image/png": "[encoded data removed]",
      "text/plain": [
       "<Figure size 432x288 with 1 Axes>"
      ]
     },
     "metadata": {
      "needs_background": "light"
     },
     "output_type": "display_data"
    }
   ],
   "source": [
    "history5_dict = history5.history\n",
    "history5_dict.keys()\n",
    "loss_values5= history5_dict['loss']\n",
    "val_loss_values5= history5_dict['val_loss']\n",
    "acc_values5= history5_dict['accuracy']\n",
    "val_acc_values5 = history5_dict['val_accuracy']\n",
    "epochs5 = range(1,len(loss_values5)+1)\n",
    "\n",
    "plt.plot(epochs5,loss_values5, label='Training Loss')\n",
    "plt.scatter(epochs5, val_loss_values5, label='Validation Loss')\n",
    "plt.title('Training and validation loss')\n",
    "plt.xlabel('Epochs')\n",
    "plt.ylabel('Loss')\n",
    "plt.legend()\n",
    "plt.show()\n",
    "\n",
    "plt.plot(epochs5,acc_values5, label='Training Accuracy')\n",
    "plt.scatter(epochs5, val_acc_values5, label='Validation Accuracy')\n",
    "plt.title('Training and validation accuracy')\n",
    "plt.xlabel('Epochs')\n",
    "plt.ylabel('Accuracy')\n",
    "plt.legend()\n",
    "\n",
    "plt.show()"
   ]
  },
  {
   "cell_type": "markdown",
   "id": "93376544",
   "metadata": {
    "papermill": {
     "duration": 0.159348,
     "end_time": "2023-02-10T23:12:42.224828",
     "exception": false,
     "start_time": "2023-02-10T23:12:42.065480",
     "status": "completed"
    },
    "tags": []
   },
   "source": [
    "> **Try using the tanh activation (an activation that was popular in the early days of neural networks) instead of relu**"
   ]
  },
  {
   "cell_type": "code",
   "execution_count": 50,
   "id": "6ce6c257",
   "metadata": {
    "execution": {
     "iopub.execute_input": "2023-02-10T23:12:42.543876Z",
     "iopub.status.busy": "2023-02-10T23:12:42.543068Z",
     "iopub.status.idle": "2023-02-10T23:12:59.922001Z",
     "shell.execute_reply": "2023-02-10T23:12:59.920233Z"
    },
    "papermill": {
     "duration": 17.541838,
     "end_time": "2023-02-10T23:12:59.925111",
     "exception": false,
     "start_time": "2023-02-10T23:12:42.383273",
     "status": "completed"
    },
    "tags": []
   },
   "outputs": [
    {
     "name": "stdout",
     "output_type": "stream",
     "text": [
      "Epoch 1/8\n",
      "49/49 [==============================] - 2s 35ms/step - loss: 0.1292 - accuracy: 0.8214 - val_loss: 0.0583 - val_accuracy: 0.9285\n",
      "Epoch 2/8\n",
      "49/49 [==============================] - 1s 27ms/step - loss: 0.0680 - accuracy: 0.9091 - val_loss: 0.0479 - val_accuracy: 0.9400\n",
      "Epoch 3/8\n",
      "49/49 [==============================] - 1s 27ms/step - loss: 0.0535 - accuracy: 0.9312 - val_loss: 0.0335 - val_accuracy: 0.9613\n",
      "Epoch 4/8\n",
      "49/49 [==============================] - 1s 27ms/step - loss: 0.0432 - accuracy: 0.9450 - val_loss: 0.0298 - val_accuracy: 0.9652\n",
      "Epoch 5/8\n",
      "49/49 [==============================] - 2s 44ms/step - loss: 0.0394 - accuracy: 0.9504 - val_loss: 0.0243 - val_accuracy: 0.9733\n",
      "Epoch 6/8\n",
      "49/49 [==============================] - 1s 27ms/step - loss: 0.0328 - accuracy: 0.9609 - val_loss: 0.0251 - val_accuracy: 0.9715\n",
      "Epoch 7/8\n",
      "49/49 [==============================] - 1s 27ms/step - loss: 0.0312 - accuracy: 0.9626 - val_loss: 0.0216 - val_accuracy: 0.9752\n",
      "Epoch 8/8\n",
      "49/49 [==============================] - 1s 26ms/step - loss: 0.0273 - accuracy: 0.9666 - val_loss: 0.0472 - val_accuracy: 0.9371\n",
      "782/782 [==============================] - 2s 3ms/step - loss: 0.1312 - accuracy: 0.8455\n",
      "[0.13120025396347046, 0.84552001953125]\n"
     ]
    }
   ],
   "source": [
    "model = models.Sequential()\n",
    "model.add(layers.Dense(64, activation='tanh', input_shape=(10000,)))\n",
    "model.add(layers.Dense(32, activation='tanh'))\n",
    "model.add(layers.Dense(1, activation='sigmoid'))\n",
    "model.compile(optimizer='rmsprop',\n",
    "loss='mse',\n",
    "metrics=['accuracy'])\n",
    "history6= model.fit(x_train, y_train, epochs=8, batch_size=512, validation_data=(x_val, y_val))\n",
    "results6 = model.evaluate(x_test, y_test)\n",
    "print(results6)"
   ]
  },
  {
   "cell_type": "code",
   "execution_count": 51,
   "id": "1577c9d9",
   "metadata": {
    "execution": {
     "iopub.execute_input": "2023-02-10T23:13:00.276398Z",
     "iopub.status.busy": "2023-02-10T23:13:00.275536Z",
     "iopub.status.idle": "2023-02-10T23:13:00.790542Z",
     "shell.execute_reply": "2023-02-10T23:13:00.789160Z"
    },
    "papermill": {
     "duration": 0.695172,
     "end_time": "2023-02-10T23:13:00.793684",
     "exception": false,
     "start_time": "2023-02-10T23:13:00.098512",
     "status": "completed"
    },
    "tags": []
   },
   "outputs": [
    {
     "data": {
      "image/png": "[encoded data removed]",
      "text/plain": [
       "<Figure size 432x288 with 1 Axes>"
      ]
     },
     "metadata": {
      "needs_background": "light"
     },
     "output_type": "display_data"
    },
    {
     "data": {
      "image/png": "[encoded data removed]",
      "text/plain": [
       "<Figure size 432x288 with 1 Axes>"
      ]
     },
     "metadata": {
      "needs_background": "light"
     },
     "output_type": "display_data"
    }
   ],
   "source": [
    "history6_dict = history6.history\n",
    "history6_dict.keys()\n",
    "loss_values6= history6_dict['loss']\n",
    "val_loss_values6= history6_dict['val_loss']\n",
    "acc_values6= history6_dict['accuracy']\n",
    "val_acc_values6 = history6_dict['val_accuracy']\n",
    "epochs6 = range(1,len(loss_values6)+1)\n",
    "\n",
    "plt.plot(epochs6,loss_values6, label='Training Loss')\n",
    "plt.scatter(epochs6, val_loss_values6, label='Validation Loss')\n",
    "plt.title('Training and validation loss')\n",
    "plt.xlabel('Epochs')\n",
    "plt.ylabel('Loss')\n",
    "plt.legend()\n",
    "plt.show()\n",
    "\n",
    "plt.plot(epochs6,acc_values6, label='Training Accuracy')\n",
    "plt.scatter(epochs6, val_acc_values6, label='Validation Accuracy')\n",
    "plt.title('Training and validation accuracy')\n",
    "plt.xlabel('Epochs')\n",
    "plt.ylabel('Accuracy')\n",
    "plt.legend()\n",
    "\n",
    "plt.show()"
   ]
  },
  {
   "cell_type": "code",
   "execution_count": null,
   "id": "58b97e87",
   "metadata": {
    "papermill": {
     "duration": 0.171816,
     "end_time": "2023-02-10T23:13:01.136863",
     "exception": false,
     "start_time": "2023-02-10T23:13:00.965047",
     "status": "completed"
    },
    "tags": []
   },
   "outputs": [],
   "source": []
  },
  {
   "cell_type": "code",
   "execution_count": null,
   "id": "dd54da88",
   "metadata": {
    "papermill": {
     "duration": 0.173689,
     "end_time": "2023-02-10T23:13:01.487921",
     "exception": false,
     "start_time": "2023-02-10T23:13:01.314232",
     "status": "completed"
    },
    "tags": []
   },
   "outputs": [],
   "source": []
  },
  {
   "cell_type": "code",
   "execution_count": null,
   "id": "99167bc7",
   "metadata": {
    "papermill": {
     "duration": 0.233832,
     "end_time": "2023-02-10T23:13:01.894872",
     "exception": false,
     "start_time": "2023-02-10T23:13:01.661040",
     "status": "completed"
    },
    "tags": []
   },
   "outputs": [],
   "source": []
  },
  {
   "cell_type": "code",
   "execution_count": null,
   "id": "7489e6c0",
   "metadata": {
    "papermill": {
     "duration": 0.175633,
     "end_time": "2023-02-10T23:13:02.243705",
     "exception": false,
     "start_time": "2023-02-10T23:13:02.068072",
     "status": "completed"
    },
    "tags": []
   },
   "outputs": [],
   "source": []
  },
  {
   "cell_type": "code",
   "execution_count": null,
   "id": "78251152",
   "metadata": {
    "papermill": {
     "duration": 0.170612,
     "end_time": "2023-02-10T23:13:02.604287",
     "exception": false,
     "start_time": "2023-02-10T23:13:02.433675",
     "status": "completed"
    },
    "tags": []
   },
   "outputs": [],
   "source": []
  }
 ],
 "metadata": {
  "kernelspec": {
   "display_name": "Python 3",
   "language": "python",
   "name": "python3"
  },
  "language_info": {
   "codemirror_mode": {
    "name": "ipython",
    "version": 3
   },
   "file_extension": ".py",
   "mimetype": "text/x-python",
   "name": "python",
   "nbconvert_exporter": "python",
   "pygments_lexer": "ipython3",
   "version": "3.7.12"
  },
  "papermill": {
   "default_parameters": {},
   "duration": 221.966373,
   "end_time": "2023-02-10T23:13:06.141659",
   "environment_variables": {},
   "exception": null,
   "input_path": "__notebook__.ipynb",
   "output_path": "__notebook__.ipynb",
   "parameters": {},
   "start_time": "2023-02-10T23:09:24.175286",
   "version": "2.3.4"
  }
 },
 "nbformat": 4,
 "nbformat_minor": 5
}
