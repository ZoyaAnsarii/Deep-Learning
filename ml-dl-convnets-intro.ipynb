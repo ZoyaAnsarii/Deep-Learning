{
 "cells": [
  {
   "cell_type": "code",
   "execution_count": 1,
   "id": "80adb70f",
   "metadata": {
    "_cell_guid": "b1076dfc-b9ad-4769-8c92-a6c4dae69d19",
    "_uuid": "8f2839f25d086af736a60e9eeb907d3b93b6e0e5",
    "execution": {
     "iopub.execute_input": "2023-02-11T17:50:19.161584Z",
     "iopub.status.busy": "2023-02-11T17:50:19.161078Z",
     "iopub.status.idle": "2023-02-11T17:50:19.174443Z",
     "shell.execute_reply": "2023-02-11T17:50:19.173174Z"
    },
    "papermill": {
     "duration": 0.02346,
     "end_time": "2023-02-11T17:50:19.177234",
     "exception": false,
     "start_time": "2023-02-11T17:50:19.153774",
     "status": "completed"
    },
    "tags": []
   },
   "outputs": [],
   "source": [
    "# This Python 3 environment comes with many helpful analytics libraries installed\n",
    "# It is defined by the kaggle/python Docker image: https://github.com/kaggle/docker-python\n",
    "# For example, here's several helpful packages to load\n",
    "\n",
    "import numpy as np # linear algebra\n",
    "import pandas as pd # data processing, CSV file I/O (e.g. pd.read_csv)\n",
    "\n",
    "# Input data files are available in the read-only \"../input/\" directory\n",
    "# For example, running this (by clicking run or pressing Shift+Enter) will list all files under the input directory\n",
    "\n",
    "import os\n",
    "for dirname, _, filenames in os.walk('/kaggle/input'):\n",
    "    for filename in filenames:\n",
    "        print(os.path.join(dirname, filename))\n",
    "\n",
    "# You can write up to 20GB to the current directory (/kaggle/working/) that gets preserved as output when you create a version using \"Save & Run All\" \n",
    "# You can also write temporary files to /kaggle/temp/, but they won't be saved outside of the current session"
   ]
  },
  {
   "cell_type": "code",
   "execution_count": 2,
   "id": "7e680c12",
   "metadata": {
    "execution": {
     "iopub.execute_input": "2023-02-11T17:50:19.187826Z",
     "iopub.status.busy": "2023-02-11T17:50:19.187415Z",
     "iopub.status.idle": "2023-02-11T17:50:26.124487Z",
     "shell.execute_reply": "2023-02-11T17:50:26.123261Z"
    },
    "papermill": {
     "duration": 6.94532,
     "end_time": "2023-02-11T17:50:26.127224",
     "exception": false,
     "start_time": "2023-02-11T17:50:19.181904",
     "status": "completed"
    },
    "tags": []
   },
   "outputs": [
    {
     "data": {
      "text/plain": [
       "'2.6.0'"
      ]
     },
     "execution_count": 2,
     "metadata": {},
     "output_type": "execute_result"
    }
   ],
   "source": [
    "import keras\n",
    "keras.__version__"
   ]
  },
  {
   "cell_type": "code",
   "execution_count": 3,
   "id": "57854a8f",
   "metadata": {
    "execution": {
     "iopub.execute_input": "2023-02-11T17:50:26.138702Z",
     "iopub.status.busy": "2023-02-11T17:50:26.138013Z",
     "iopub.status.idle": "2023-02-11T17:50:26.276184Z",
     "shell.execute_reply": "2023-02-11T17:50:26.274335Z"
    },
    "papermill": {
     "duration": 0.148136,
     "end_time": "2023-02-11T17:50:26.280052",
     "exception": false,
     "start_time": "2023-02-11T17:50:26.131916",
     "status": "completed"
    },
    "tags": []
   },
   "outputs": [
    {
     "name": "stderr",
     "output_type": "stream",
     "text": [
      "2023-02-11 17:50:26.174336: I tensorflow/core/common_runtime/process_util.cc:146] Creating new thread pool with default inter op setting: 2. Tune using inter_op_parallelism_threads for best performance.\n"
     ]
    }
   ],
   "source": [
    "from keras import layers\n",
    "from keras import models\n",
    "\n",
    "model = models.Sequential()\n",
    "model.add(layers.Conv2D(32, (3, 3), activation='relu', input_shape=(28, 28, 1)))\n",
    "model.add(layers.MaxPooling2D((2, 2)))\n",
    "model.add(layers.Conv2D(64, (3, 3), activation='relu'))\n",
    "model.add(layers.MaxPooling2D((2, 2)))\n",
    "model.add(layers.Conv2D(64, (3, 3), activation='relu'))"
   ]
  },
  {
   "cell_type": "code",
   "execution_count": 4,
   "id": "c783ac3a",
   "metadata": {
    "execution": {
     "iopub.execute_input": "2023-02-11T17:50:26.291668Z",
     "iopub.status.busy": "2023-02-11T17:50:26.291282Z",
     "iopub.status.idle": "2023-02-11T17:50:26.299420Z",
     "shell.execute_reply": "2023-02-11T17:50:26.297988Z"
    },
    "papermill": {
     "duration": 0.019011,
     "end_time": "2023-02-11T17:50:26.304109",
     "exception": false,
     "start_time": "2023-02-11T17:50:26.285098",
     "status": "completed"
    },
    "tags": []
   },
   "outputs": [
    {
     "name": "stdout",
     "output_type": "stream",
     "text": [
      "Model: \"sequential\"\n",
      "_________________________________________________________________\n",
      "Layer (type)                 Output Shape              Param #   \n",
      "=================================================================\n",
      "conv2d (Conv2D)              (None, 26, 26, 32)        320       \n",
      "_________________________________________________________________\n",
      "max_pooling2d (MaxPooling2D) (None, 13, 13, 32)        0         \n",
      "_________________________________________________________________\n",
      "conv2d_1 (Conv2D)            (None, 11, 11, 64)        18496     \n",
      "_________________________________________________________________\n",
      "max_pooling2d_1 (MaxPooling2 (None, 5, 5, 64)          0         \n",
      "_________________________________________________________________\n",
      "conv2d_2 (Conv2D)            (None, 3, 3, 64)          36928     \n",
      "=================================================================\n",
      "Total params: 55,744\n",
      "Trainable params: 55,744\n",
      "Non-trainable params: 0\n",
      "_________________________________________________________________\n"
     ]
    }
   ],
   "source": [
    "model.summary()"
   ]
  },
  {
   "cell_type": "code",
   "execution_count": 5,
   "id": "5f90e56f",
   "metadata": {
    "execution": {
     "iopub.execute_input": "2023-02-11T17:50:26.317021Z",
     "iopub.status.busy": "2023-02-11T17:50:26.316009Z",
     "iopub.status.idle": "2023-02-11T17:50:26.349309Z",
     "shell.execute_reply": "2023-02-11T17:50:26.348089Z"
    },
    "papermill": {
     "duration": 0.042331,
     "end_time": "2023-02-11T17:50:26.352168",
     "exception": false,
     "start_time": "2023-02-11T17:50:26.309837",
     "status": "completed"
    },
    "tags": []
   },
   "outputs": [],
   "source": [
    "model.add(layers.Flatten())\n",
    "model.add(layers.Dense(64, activation='relu'))\n",
    "model.add(layers.Dense(10, activation='softmax'))"
   ]
  },
  {
   "cell_type": "code",
   "execution_count": 6,
   "id": "04767a54",
   "metadata": {
    "execution": {
     "iopub.execute_input": "2023-02-11T17:50:26.363278Z",
     "iopub.status.busy": "2023-02-11T17:50:26.362850Z",
     "iopub.status.idle": "2023-02-11T17:50:26.372498Z",
     "shell.execute_reply": "2023-02-11T17:50:26.370912Z"
    },
    "papermill": {
     "duration": 0.018413,
     "end_time": "2023-02-11T17:50:26.375253",
     "exception": false,
     "start_time": "2023-02-11T17:50:26.356840",
     "status": "completed"
    },
    "tags": []
   },
   "outputs": [
    {
     "name": "stdout",
     "output_type": "stream",
     "text": [
      "Model: \"sequential\"\n",
      "_________________________________________________________________\n",
      "Layer (type)                 Output Shape              Param #   \n",
      "=================================================================\n",
      "conv2d (Conv2D)              (None, 26, 26, 32)        320       \n",
      "_________________________________________________________________\n",
      "max_pooling2d (MaxPooling2D) (None, 13, 13, 32)        0         \n",
      "_________________________________________________________________\n",
      "conv2d_1 (Conv2D)            (None, 11, 11, 64)        18496     \n",
      "_________________________________________________________________\n",
      "max_pooling2d_1 (MaxPooling2 (None, 5, 5, 64)          0         \n",
      "_________________________________________________________________\n",
      "conv2d_2 (Conv2D)            (None, 3, 3, 64)          36928     \n",
      "_________________________________________________________________\n",
      "flatten (Flatten)            (None, 576)               0         \n",
      "_________________________________________________________________\n",
      "dense (Dense)                (None, 64)                36928     \n",
      "_________________________________________________________________\n",
      "dense_1 (Dense)              (None, 10)                650       \n",
      "=================================================================\n",
      "Total params: 93,322\n",
      "Trainable params: 93,322\n",
      "Non-trainable params: 0\n",
      "_________________________________________________________________\n"
     ]
    }
   ],
   "source": [
    "model.summary()"
   ]
  },
  {
   "cell_type": "code",
   "execution_count": 7,
   "id": "416e3f10",
   "metadata": {
    "execution": {
     "iopub.execute_input": "2023-02-11T17:50:26.386557Z",
     "iopub.status.busy": "2023-02-11T17:50:26.386102Z",
     "iopub.status.idle": "2023-02-11T17:50:28.826035Z",
     "shell.execute_reply": "2023-02-11T17:50:28.824700Z"
    },
    "papermill": {
     "duration": 2.448908,
     "end_time": "2023-02-11T17:50:28.828915",
     "exception": false,
     "start_time": "2023-02-11T17:50:26.380007",
     "status": "completed"
    },
    "tags": []
   },
   "outputs": [
    {
     "name": "stdout",
     "output_type": "stream",
     "text": [
      "Downloading data from https://storage.googleapis.com/tensorflow/tf-keras-datasets/mnist.npz\n",
      "11493376/11490434 [==============================] - 1s 0us/step\n",
      "11501568/11490434 [==============================] - 1s 0us/step\n"
     ]
    }
   ],
   "source": [
    "from keras.datasets import mnist\n",
    "from tensorflow.keras.utils import to_categorical\n",
    "\n",
    "(train_images, train_labels), (test_images, test_labels) = mnist.load_data()\n",
    "\n",
    "train_images = train_images.reshape((60000, 28, 28, 1))\n",
    "train_images = train_images.astype('float32') / 255\n",
    "\n",
    "test_images = test_images.reshape((10000, 28, 28, 1))\n",
    "test_images = test_images.astype('float32') / 255\n",
    "\n",
    "train_labels = to_categorical(train_labels)\n",
    "test_labels = to_categorical(test_labels)"
   ]
  },
  {
   "cell_type": "code",
   "execution_count": 8,
   "id": "6ab72ef8",
   "metadata": {
    "execution": {
     "iopub.execute_input": "2023-02-11T17:50:28.844073Z",
     "iopub.status.busy": "2023-02-11T17:50:28.843636Z",
     "iopub.status.idle": "2023-02-11T17:52:15.301778Z",
     "shell.execute_reply": "2023-02-11T17:52:15.300868Z"
    },
    "papermill": {
     "duration": 106.468379,
     "end_time": "2023-02-11T17:52:15.303988",
     "exception": false,
     "start_time": "2023-02-11T17:50:28.835609",
     "status": "completed"
    },
    "tags": []
   },
   "outputs": [
    {
     "name": "stderr",
     "output_type": "stream",
     "text": [
      "2023-02-11 17:50:29.342881: I tensorflow/compiler/mlir/mlir_graph_optimization_pass.cc:185] None of the MLIR Optimization Passes are enabled (registered 2)\n"
     ]
    },
    {
     "name": "stdout",
     "output_type": "stream",
     "text": [
      "Epoch 1/5\n",
      "938/938 [==============================] - 22s 23ms/step - loss: 0.1698 - accuracy: 0.9468\n",
      "Epoch 2/5\n",
      "938/938 [==============================] - 21s 23ms/step - loss: 0.0475 - accuracy: 0.9847\n",
      "Epoch 3/5\n",
      "938/938 [==============================] - 21s 22ms/step - loss: 0.0333 - accuracy: 0.9898\n",
      "Epoch 4/5\n",
      "938/938 [==============================] - 21s 22ms/step - loss: 0.0244 - accuracy: 0.9927\n",
      "Epoch 5/5\n",
      "938/938 [==============================] - 21s 22ms/step - loss: 0.0203 - accuracy: 0.9939\n"
     ]
    },
    {
     "data": {
      "text/plain": [
       "<keras.callbacks.History at 0x7fda4b342d10>"
      ]
     },
     "execution_count": 8,
     "metadata": {},
     "output_type": "execute_result"
    }
   ],
   "source": [
    "model.compile(optimizer='rmsprop',\n",
    "              loss='categorical_crossentropy',\n",
    "              metrics=['accuracy'])\n",
    "model.fit(train_images, train_labels, epochs=5, batch_size=64)"
   ]
  },
  {
   "cell_type": "code",
   "execution_count": 9,
   "id": "fae2f1a6",
   "metadata": {
    "execution": {
     "iopub.execute_input": "2023-02-11T17:52:15.515709Z",
     "iopub.status.busy": "2023-02-11T17:52:15.514528Z",
     "iopub.status.idle": "2023-02-11T17:52:17.332796Z",
     "shell.execute_reply": "2023-02-11T17:52:17.331515Z"
    },
    "papermill": {
     "duration": 1.926171,
     "end_time": "2023-02-11T17:52:17.335696",
     "exception": false,
     "start_time": "2023-02-11T17:52:15.409525",
     "status": "completed"
    },
    "tags": []
   },
   "outputs": [
    {
     "name": "stdout",
     "output_type": "stream",
     "text": [
      "313/313 [==============================] - 2s 5ms/step - loss: 0.0271 - accuracy: 0.9915\n"
     ]
    }
   ],
   "source": [
    "test_loss, test_acc = model.evaluate(test_images, test_labels)"
   ]
  },
  {
   "cell_type": "code",
   "execution_count": null,
   "id": "e84301dd",
   "metadata": {
    "papermill": {
     "duration": 0.108265,
     "end_time": "2023-02-11T17:52:17.551468",
     "exception": false,
     "start_time": "2023-02-11T17:52:17.443203",
     "status": "completed"
    },
    "tags": []
   },
   "outputs": [],
   "source": []
  },
  {
   "cell_type": "code",
   "execution_count": null,
   "id": "522edb52",
   "metadata": {
    "papermill": {
     "duration": 0.105384,
     "end_time": "2023-02-11T17:52:17.762848",
     "exception": false,
     "start_time": "2023-02-11T17:52:17.657464",
     "status": "completed"
    },
    "tags": []
   },
   "outputs": [],
   "source": []
  },
  {
   "cell_type": "code",
   "execution_count": null,
   "id": "8906a4a4",
   "metadata": {
    "papermill": {
     "duration": 0.106687,
     "end_time": "2023-02-11T17:52:17.975403",
     "exception": false,
     "start_time": "2023-02-11T17:52:17.868716",
     "status": "completed"
    },
    "tags": []
   },
   "outputs": [],
   "source": []
  },
  {
   "cell_type": "code",
   "execution_count": null,
   "id": "0ff65b27",
   "metadata": {
    "papermill": {
     "duration": 0.105005,
     "end_time": "2023-02-11T17:52:18.185856",
     "exception": false,
     "start_time": "2023-02-11T17:52:18.080851",
     "status": "completed"
    },
    "tags": []
   },
   "outputs": [],
   "source": []
  },
  {
   "cell_type": "code",
   "execution_count": null,
   "id": "7bc84765",
   "metadata": {
    "papermill": {
     "duration": 0.105356,
     "end_time": "2023-02-11T17:52:18.396711",
     "exception": false,
     "start_time": "2023-02-11T17:52:18.291355",
     "status": "completed"
    },
    "tags": []
   },
   "outputs": [],
   "source": []
  },
  {
   "cell_type": "code",
   "execution_count": null,
   "id": "24d6eca2",
   "metadata": {
    "papermill": {
     "duration": 0.104953,
     "end_time": "2023-02-11T17:52:18.680014",
     "exception": false,
     "start_time": "2023-02-11T17:52:18.575061",
     "status": "completed"
    },
    "tags": []
   },
   "outputs": [],
   "source": []
  },
  {
   "cell_type": "code",
   "execution_count": null,
   "id": "0a800a42",
   "metadata": {
    "papermill": {
     "duration": 0.105892,
     "end_time": "2023-02-11T17:52:18.892476",
     "exception": false,
     "start_time": "2023-02-11T17:52:18.786584",
     "status": "completed"
    },
    "tags": []
   },
   "outputs": [],
   "source": []
  },
  {
   "cell_type": "code",
   "execution_count": null,
   "id": "8df07290",
   "metadata": {
    "papermill": {
     "duration": 0.109388,
     "end_time": "2023-02-11T17:52:19.107993",
     "exception": false,
     "start_time": "2023-02-11T17:52:18.998605",
     "status": "completed"
    },
    "tags": []
   },
   "outputs": [],
   "source": []
  }
 ],
 "metadata": {
  "kernelspec": {
   "display_name": "Python 3",
   "language": "python",
   "name": "python3"
  },
  "language_info": {
   "codemirror_mode": {
    "name": "ipython",
    "version": 3
   },
   "file_extension": ".py",
   "mimetype": "text/x-python",
   "name": "python",
   "nbconvert_exporter": "python",
   "pygments_lexer": "ipython3",
   "version": "3.7.12"
  },
  "papermill": {
   "default_parameters": {},
   "duration": 132.267951,
   "end_time": "2023-02-11T17:52:22.097904",
   "environment_variables": {},
   "exception": null,
   "input_path": "__notebook__.ipynb",
   "output_path": "__notebook__.ipynb",
   "parameters": {},
   "start_time": "2023-02-11T17:50:09.829953",
   "version": "2.3.4"
  }
 },
 "nbformat": 4,
 "nbformat_minor": 5
}
